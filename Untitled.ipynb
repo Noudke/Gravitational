{
 "cells": [
  {
   "cell_type": "code",
   "execution_count": 1,
   "id": "968e04ad-cd1a-4366-b463-a376642e2679",
   "metadata": {
    "pycharm": {
     "name": "#%%\n"
    }
   },
   "outputs": [],
   "source": [
    "import h5py as h5\n",
    "import numpy as np\n",
    "import matplotlib.pyplot as plt\n",
    "import pandas as pd\n",
    "import os\n",
    "\n",
    "train_folder = 'D:\\\\Datasets\\\\g2net-detecting-continuous-gravitational-waves (1)\\\\train'\n",
    "test_folder = 'D:\\\\Datasets\\\\g2net-detecting-continuous-gravitational-waves (1)\\\\test'\n",
    "\n",
    "# List of names of all files in the folder\n",
    "train_files = os.listdir(train_folder)\n",
    "test_files = os.listdir(test_folder)"
   ]
  },
  {
   "cell_type": "code",
   "execution_count": 2,
   "id": "e721c34c-50bf-40cd-8fc8-5182b57bb746",
   "metadata": {
    "pycharm": {
     "name": "#%%\n"
    }
   },
   "outputs": [],
   "source": [
    "# Get train_labels and associate them with appropriate files\n",
    "\n",
    "train_labels = 'D:\\\\Datasets\\\\g2net-detecting-continuous-gravitational-waves (1)\\\\train_labels.csv'\n",
    "\n",
    "# Create a dictionary with train_files values as keys and train_labels values as values\n",
    "train_labels_dict = {}\n",
    "with open(train_labels, 'r') as f:\n",
    "    for line in f:\n",
    "        (key, val) = line.split(',')\n",
    "        train_labels_dict[key] = val\n",
    "\n",
    "# Remove \"\\n\" from the end of the values\n",
    "for key in train_labels_dict:\n",
    "    train_labels_dict[key] = train_labels_dict[key].rstrip()"
   ]
  },
  {
   "cell_type": "code",
   "execution_count": 3,
   "id": "f6ab6154-0c12-44fb-8a85-638508a2dca3",
   "metadata": {
    "pycharm": {
     "name": "#%%\n"
    }
   },
   "outputs": [
    {
     "name": "stdout",
     "output_type": "stream",
     "text": [
      "<HDF5 group \"/001121a05\" (3 members)>\n",
      "----><HDF5 group \"/001121a05/H1\" (2 members)>\n",
      "---------><HDF5 dataset \"SFTs\": shape (360, 4612), type \"<c8\">\n",
      "---------><HDF5 dataset \"timestamps_GPS\": shape (4612,), type \"<i8\">\n",
      "----><HDF5 group \"/001121a05/L1\" (2 members)>\n",
      "---------><HDF5 dataset \"SFTs\": shape (360, 4653), type \"<c8\">\n",
      "---------><HDF5 dataset \"timestamps_GPS\": shape (4653,), type \"<i8\">\n",
      "----><HDF5 dataset \"frequency_Hz\": shape (360,), type \"<f8\">\n"
     ]
    }
   ],
   "source": [
    "# Get contents of first train file\n",
    "\n",
    "with h5.File(train_folder + '\\\\' + train_files[0], 'r') as f:\n",
    "    for file_key in f.keys():\n",
    "        group = f[file_key]\n",
    "        print(group)\n",
    "        try:\n",
    "            for group_key in group.keys():\n",
    "                group2 = group[group_key]\n",
    "                print(f\"---->{group2}\")\n",
    "                for group_key2 in group2.keys():\n",
    "                    print(f\"--------->{group2[group_key2]}\")\n",
    "        except AttributeError:\n",
    "            pass"
   ]
  },
  {
   "cell_type": "code",
   "execution_count": null,
   "outputs": [],
   "source": [
    "# Read existing datasets from first hdf train file\n",
    "\n",
    "with h5.File(train_folder + '\\\\' + train_files[0], 'r') as f:\n",
    "    for file_key in f.keys():\n",
    "        group = f[file_key]\n",
    "        try:\n",
    "            for group_key in group.keys():\n",
    "                group2 = group[group_key]\n",
    "                for group_key2 in group2.keys():\n",
    "                    print(f\"--------->{group2[group_key2]}\")\n",
    "        except AttributeError:\n",
    "            pass"
   ],
   "metadata": {
    "collapsed": false,
    "pycharm": {
     "name": "#%%\n"
    }
   }
  },
  {
   "cell_type": "code",
   "execution_count": 10,
   "id": "cf5db4a7-1a4a-4c54-a8ca-dbc2e29c3fa0",
   "metadata": {
    "pycharm": {
     "name": "#%%\n"
    }
   },
   "outputs": [],
   "source": [
    "def traverse_hdf5(hdf5_file, file_name):\n",
    "    data = []\n",
    "    # Open the HDF5 file\n",
    "    with h5.File(hdf5_file, 'r') as f:\n",
    "        # Recursively traverse through the groups in the HDF5 file\n",
    "        def traverse(name, path):\n",
    "            # Get the object at the current path\n",
    "            obj = f[name]\n",
    "            # If the object is a group, traverse through it\n",
    "            if isinstance(obj, h5.Group):\n",
    "                for key in obj.keys():\n",
    "                    traverse(f\"{name}/{key}\", f\"{path}/{key}\")\n",
    "            # If the object is a dataset, store the data and the dataset name in the list\n",
    "            elif isinstance(obj, h5.Dataset):\n",
    "                data.append((obj[()], path, file_name))\n",
    "        traverse(\"/\", \"/\")\n",
    "    # Create a Pandas dataframe from the data\n",
    "    df = pd.DataFrame(data, columns=[\"data\", \"name\", \"file\"])\n",
    "\n",
    "    # If the end of the column of a name is \"SFTs\", replace the value within the data column with the average of the values\n",
    "    for i in range(len(df)):\n",
    "        if df['name'][i][-4:] == 'SFTs':\n",
    "            df['data'][i] = np.mean(df['data'][i])\n",
    "\n",
    "    # If the end of the column of a name is \"frequency_Hz\", replace the value within the data column with the average of\n",
    "    # the values\n",
    "    for i in range(len(df)):\n",
    "        if df['name'][i][-12:] == 'frequency_Hz':\n",
    "            df['data'][i] = np.mean(df['data'][i])\n",
    "\n",
    "    # Remove the columns with names that end with \"timestamps_GPS\"\n",
    "    df = df[~df['name'].str.endswith('timestamps_GPS')]\n",
    "\n",
    "    # Transpose the dataframe, with eventually columns of \"Filename\", \"H1-SFTs\", \"L1-SFTs\", \"Frequency_Hz\"\n",
    "    df = df.pivot(index='file', columns='name', values='data').reset_index()\n",
    "\n",
    "    # Rename the \"Filename\" column to \"id\"\n",
    "    df.rename(columns={'file': 'Id'}, inplace=True)\n",
    "\n",
    "    # Filename is the name of the file without the extension\n",
    "    Filename = file_name[:-5]\n",
    "\n",
    "    # Rename the \"H1-SFTs\" column to \"H1\"\n",
    "    df.rename(columns={'//' + Filename + '/H1/SFTs': 'Avg H1-SFTs'}, inplace=True)\n",
    "    df.rename(columns={'//' + Filename + '/L1/SFTs': 'Avg L1-SFTs'}, inplace=True)\n",
    "    df.rename(columns={'//' + Filename + '/frequency_Hz': 'Avg Frequency_Hz'}, inplace=True)\n",
    "\n",
    "    return df"
   ]
  },
  {
   "cell_type": "code",
   "execution_count": 17,
   "id": "140817c3-1a08-4e2b-8b86-25b280b0a0f8",
   "metadata": {
    "pycharm": {
     "name": "#%%\n"
    }
   },
   "outputs": [
    {
     "data": {
      "text/plain": "                Id                      Avg H1-SFTs  \\\n0   001121a05.hdf5  (-2.7874754e-26-5.2556594e-26j)   \n0   004f23b2d.hdf5    (5.7957826e-26-7.850618e-26j)   \n0   00a6db666.hdf5   (1.7794107e-25-5.2310586e-29j)   \n0   00f36a6ac.hdf5    (2.7037856e-26+9.426087e-27j)   \n0   010a387db.hdf5   (-7.8788974e-26-8.984369e-27j)   \n..             ...                              ...   \n0   fe38dbe64.hdf5    (1.9862872e-27-4.079406e-27j)   \n0   feafd0d16.hdf5  (-3.9736005e-26-4.9526113e-27j)   \n0   feeca844e.hdf5   (-3.3825502e-26-9.813063e-26j)   \n0   ff5ad023f.hdf5     (5.578002e-26+4.128473e-27j)   \n0   ffa1d19c7.hdf5    (1.3107302e-25+4.106744e-26j)   \n\n                        Avg L1-SFTs Avg Frequency_Hz  \n0    (-7.563195e-26+1.6791384e-26j)          53.6075  \n0     (-6.577777e-26-9.961035e-27j)       329.119722  \n0    (3.6714905e-26+1.6741528e-26j)       213.288056  \n0   (-9.8693624e-26-3.6599078e-26j)       453.359167  \n0     (6.442983e-26-2.6589115e-26j)       231.983611  \n..                              ...              ...  \n0    (2.9517718e-26-4.4535038e-26j)       373.019722  \n0    (5.1489706e-26-6.1739946e-26j)       481.319722  \n0    (4.5678313e-27-6.1452293e-28j)       369.324722  \n0   (-6.8264504e-26+4.6519235e-26j)       293.868056  \n0   (-1.7246744e-26-3.2949928e-26j)       234.475833  \n\n[603 rows x 4 columns]",
      "text/html": "<div>\n<style scoped>\n    .dataframe tbody tr th:only-of-type {\n        vertical-align: middle;\n    }\n\n    .dataframe tbody tr th {\n        vertical-align: top;\n    }\n\n    .dataframe thead th {\n        text-align: right;\n    }\n</style>\n<table border=\"1\" class=\"dataframe\">\n  <thead>\n    <tr style=\"text-align: right;\">\n      <th></th>\n      <th>Id</th>\n      <th>Avg H1-SFTs</th>\n      <th>Avg L1-SFTs</th>\n      <th>Avg Frequency_Hz</th>\n    </tr>\n  </thead>\n  <tbody>\n    <tr>\n      <th>0</th>\n      <td>001121a05.hdf5</td>\n      <td>(-2.7874754e-26-5.2556594e-26j)</td>\n      <td>(-7.563195e-26+1.6791384e-26j)</td>\n      <td>53.6075</td>\n    </tr>\n    <tr>\n      <th>0</th>\n      <td>004f23b2d.hdf5</td>\n      <td>(5.7957826e-26-7.850618e-26j)</td>\n      <td>(-6.577777e-26-9.961035e-27j)</td>\n      <td>329.119722</td>\n    </tr>\n    <tr>\n      <th>0</th>\n      <td>00a6db666.hdf5</td>\n      <td>(1.7794107e-25-5.2310586e-29j)</td>\n      <td>(3.6714905e-26+1.6741528e-26j)</td>\n      <td>213.288056</td>\n    </tr>\n    <tr>\n      <th>0</th>\n      <td>00f36a6ac.hdf5</td>\n      <td>(2.7037856e-26+9.426087e-27j)</td>\n      <td>(-9.8693624e-26-3.6599078e-26j)</td>\n      <td>453.359167</td>\n    </tr>\n    <tr>\n      <th>0</th>\n      <td>010a387db.hdf5</td>\n      <td>(-7.8788974e-26-8.984369e-27j)</td>\n      <td>(6.442983e-26-2.6589115e-26j)</td>\n      <td>231.983611</td>\n    </tr>\n    <tr>\n      <th>...</th>\n      <td>...</td>\n      <td>...</td>\n      <td>...</td>\n      <td>...</td>\n    </tr>\n    <tr>\n      <th>0</th>\n      <td>fe38dbe64.hdf5</td>\n      <td>(1.9862872e-27-4.079406e-27j)</td>\n      <td>(2.9517718e-26-4.4535038e-26j)</td>\n      <td>373.019722</td>\n    </tr>\n    <tr>\n      <th>0</th>\n      <td>feafd0d16.hdf5</td>\n      <td>(-3.9736005e-26-4.9526113e-27j)</td>\n      <td>(5.1489706e-26-6.1739946e-26j)</td>\n      <td>481.319722</td>\n    </tr>\n    <tr>\n      <th>0</th>\n      <td>feeca844e.hdf5</td>\n      <td>(-3.3825502e-26-9.813063e-26j)</td>\n      <td>(4.5678313e-27-6.1452293e-28j)</td>\n      <td>369.324722</td>\n    </tr>\n    <tr>\n      <th>0</th>\n      <td>ff5ad023f.hdf5</td>\n      <td>(5.578002e-26+4.128473e-27j)</td>\n      <td>(-6.8264504e-26+4.6519235e-26j)</td>\n      <td>293.868056</td>\n    </tr>\n    <tr>\n      <th>0</th>\n      <td>ffa1d19c7.hdf5</td>\n      <td>(1.3107302e-25+4.106744e-26j)</td>\n      <td>(-1.7246744e-26-3.2949928e-26j)</td>\n      <td>234.475833</td>\n    </tr>\n  </tbody>\n</table>\n<p>603 rows × 4 columns</p>\n</div>"
     },
     "execution_count": 17,
     "metadata": {},
     "output_type": "execute_result"
    }
   ],
   "source": [
    "complete_df_train = pd.DataFrame(columns=[\"Id\", \"Avg H1-SFTs\", \"Avg L1-SFTs\", \"Avg Frequency_Hz\"])\n",
    "\n",
    "# Execute the traverse_hdf5 function on all files in the train folder and replace complete_df with complete_df + df\n",
    "for file in train_files:\n",
    "    df = traverse_hdf5(train_folder + '\\\\' + file, file)\n",
    "    complete_df_train = complete_df_train.append(df)\n",
    "\n",
    "complete_df_train"
   ]
  },
  {
   "cell_type": "code",
   "execution_count": 18,
   "id": "aa77b59c-9ad7-456e-aedc-2f089fdbc9ee",
   "metadata": {
    "pycharm": {
     "name": "#%%\n"
    }
   },
   "outputs": [
    {
     "data": {
      "text/plain": "                Id                      Avg H1-SFTs  \\\n0   001121a05.hdf5  (-2.7874754e-26-5.2556594e-26j)   \n0   004f23b2d.hdf5    (5.7957826e-26-7.850618e-26j)   \n0   00a6db666.hdf5   (1.7794107e-25-5.2310586e-29j)   \n0   00f36a6ac.hdf5    (2.7037856e-26+9.426087e-27j)   \n0   010a387db.hdf5   (-7.8788974e-26-8.984369e-27j)   \n..             ...                              ...   \n0   fe38dbe64.hdf5    (1.9862872e-27-4.079406e-27j)   \n0   feafd0d16.hdf5  (-3.9736005e-26-4.9526113e-27j)   \n0   feeca844e.hdf5   (-3.3825502e-26-9.813063e-26j)   \n0   ff5ad023f.hdf5     (5.578002e-26+4.128473e-27j)   \n0   ffa1d19c7.hdf5    (1.3107302e-25+4.106744e-26j)   \n\n                        Avg L1-SFTs Avg Frequency_Hz  \n0    (-7.563195e-26+1.6791384e-26j)          53.6075  \n0     (-6.577777e-26-9.961035e-27j)       329.119722  \n0    (3.6714905e-26+1.6741528e-26j)       213.288056  \n0   (-9.8693624e-26-3.6599078e-26j)       453.359167  \n0     (6.442983e-26-2.6589115e-26j)       231.983611  \n..                              ...              ...  \n0    (2.9517718e-26-4.4535038e-26j)       373.019722  \n0    (5.1489706e-26-6.1739946e-26j)       481.319722  \n0    (4.5678313e-27-6.1452293e-28j)       369.324722  \n0   (-6.8264504e-26+4.6519235e-26j)       293.868056  \n0   (-1.7246744e-26-3.2949928e-26j)       234.475833  \n\n[603 rows x 4 columns]",
      "text/html": "<div>\n<style scoped>\n    .dataframe tbody tr th:only-of-type {\n        vertical-align: middle;\n    }\n\n    .dataframe tbody tr th {\n        vertical-align: top;\n    }\n\n    .dataframe thead th {\n        text-align: right;\n    }\n</style>\n<table border=\"1\" class=\"dataframe\">\n  <thead>\n    <tr style=\"text-align: right;\">\n      <th></th>\n      <th>Id</th>\n      <th>Avg H1-SFTs</th>\n      <th>Avg L1-SFTs</th>\n      <th>Avg Frequency_Hz</th>\n    </tr>\n  </thead>\n  <tbody>\n    <tr>\n      <th>0</th>\n      <td>001121a05.hdf5</td>\n      <td>(-2.7874754e-26-5.2556594e-26j)</td>\n      <td>(-7.563195e-26+1.6791384e-26j)</td>\n      <td>53.6075</td>\n    </tr>\n    <tr>\n      <th>0</th>\n      <td>004f23b2d.hdf5</td>\n      <td>(5.7957826e-26-7.850618e-26j)</td>\n      <td>(-6.577777e-26-9.961035e-27j)</td>\n      <td>329.119722</td>\n    </tr>\n    <tr>\n      <th>0</th>\n      <td>00a6db666.hdf5</td>\n      <td>(1.7794107e-25-5.2310586e-29j)</td>\n      <td>(3.6714905e-26+1.6741528e-26j)</td>\n      <td>213.288056</td>\n    </tr>\n    <tr>\n      <th>0</th>\n      <td>00f36a6ac.hdf5</td>\n      <td>(2.7037856e-26+9.426087e-27j)</td>\n      <td>(-9.8693624e-26-3.6599078e-26j)</td>\n      <td>453.359167</td>\n    </tr>\n    <tr>\n      <th>0</th>\n      <td>010a387db.hdf5</td>\n      <td>(-7.8788974e-26-8.984369e-27j)</td>\n      <td>(6.442983e-26-2.6589115e-26j)</td>\n      <td>231.983611</td>\n    </tr>\n    <tr>\n      <th>...</th>\n      <td>...</td>\n      <td>...</td>\n      <td>...</td>\n      <td>...</td>\n    </tr>\n    <tr>\n      <th>0</th>\n      <td>fe38dbe64.hdf5</td>\n      <td>(1.9862872e-27-4.079406e-27j)</td>\n      <td>(2.9517718e-26-4.4535038e-26j)</td>\n      <td>373.019722</td>\n    </tr>\n    <tr>\n      <th>0</th>\n      <td>feafd0d16.hdf5</td>\n      <td>(-3.9736005e-26-4.9526113e-27j)</td>\n      <td>(5.1489706e-26-6.1739946e-26j)</td>\n      <td>481.319722</td>\n    </tr>\n    <tr>\n      <th>0</th>\n      <td>feeca844e.hdf5</td>\n      <td>(-3.3825502e-26-9.813063e-26j)</td>\n      <td>(4.5678313e-27-6.1452293e-28j)</td>\n      <td>369.324722</td>\n    </tr>\n    <tr>\n      <th>0</th>\n      <td>ff5ad023f.hdf5</td>\n      <td>(5.578002e-26+4.128473e-27j)</td>\n      <td>(-6.8264504e-26+4.6519235e-26j)</td>\n      <td>293.868056</td>\n    </tr>\n    <tr>\n      <th>0</th>\n      <td>ffa1d19c7.hdf5</td>\n      <td>(1.3107302e-25+4.106744e-26j)</td>\n      <td>(-1.7246744e-26-3.2949928e-26j)</td>\n      <td>234.475833</td>\n    </tr>\n  </tbody>\n</table>\n<p>603 rows × 4 columns</p>\n</div>"
     },
     "execution_count": 18,
     "metadata": {},
     "output_type": "execute_result"
    }
   ],
   "source": [
    "complete_df_train"
   ]
  },
  {
   "cell_type": "code",
   "execution_count": 19,
   "id": "8f1f9cd5-4cf1-4496-b911-560a4bfa42f8",
   "metadata": {
    "pycharm": {
     "name": "#%%\n"
    }
   },
   "outputs": [
    {
     "name": "stderr",
     "output_type": "stream",
     "text": [
      "C:\\Users\\noudy\\DataSpellProjects\\Gravitational\\DS_venv\\lib\\site-packages\\ipykernel_launcher.py:3: ComplexWarning: Casting complex values to real discards the imaginary part\n",
      "  This is separate from the ipykernel package so we can avoid doing imports until\n"
     ]
    },
    {
     "data": {
      "text/plain": "                Id   Avg H1-SFTs                      Avg L1-SFTs  \\\n0   001121a05.hdf5 -2.787475e-26   (-7.563195e-26+1.6791384e-26j)   \n0   004f23b2d.hdf5  5.795783e-26    (-6.577777e-26-9.961035e-27j)   \n0   00a6db666.hdf5  1.779411e-25   (3.6714905e-26+1.6741528e-26j)   \n0   00f36a6ac.hdf5  2.703786e-26  (-9.8693624e-26-3.6599078e-26j)   \n0   010a387db.hdf5 -7.878897e-26    (6.442983e-26-2.6589115e-26j)   \n..             ...           ...                              ...   \n0   fe38dbe64.hdf5  1.986287e-27   (2.9517718e-26-4.4535038e-26j)   \n0   feafd0d16.hdf5 -3.973601e-26   (5.1489706e-26-6.1739946e-26j)   \n0   feeca844e.hdf5 -3.382550e-26   (4.5678313e-27-6.1452293e-28j)   \n0   ff5ad023f.hdf5  5.578002e-26  (-6.8264504e-26+4.6519235e-26j)   \n0   ffa1d19c7.hdf5  1.310730e-25  (-1.7246744e-26-3.2949928e-26j)   \n\n   Avg Frequency_Hz  \n0           53.6075  \n0        329.119722  \n0        213.288056  \n0        453.359167  \n0        231.983611  \n..              ...  \n0        373.019722  \n0        481.319722  \n0        369.324722  \n0        293.868056  \n0        234.475833  \n\n[603 rows x 4 columns]",
      "text/html": "<div>\n<style scoped>\n    .dataframe tbody tr th:only-of-type {\n        vertical-align: middle;\n    }\n\n    .dataframe tbody tr th {\n        vertical-align: top;\n    }\n\n    .dataframe thead th {\n        text-align: right;\n    }\n</style>\n<table border=\"1\" class=\"dataframe\">\n  <thead>\n    <tr style=\"text-align: right;\">\n      <th></th>\n      <th>Id</th>\n      <th>Avg H1-SFTs</th>\n      <th>Avg L1-SFTs</th>\n      <th>Avg Frequency_Hz</th>\n    </tr>\n  </thead>\n  <tbody>\n    <tr>\n      <th>0</th>\n      <td>001121a05.hdf5</td>\n      <td>-2.787475e-26</td>\n      <td>(-7.563195e-26+1.6791384e-26j)</td>\n      <td>53.6075</td>\n    </tr>\n    <tr>\n      <th>0</th>\n      <td>004f23b2d.hdf5</td>\n      <td>5.795783e-26</td>\n      <td>(-6.577777e-26-9.961035e-27j)</td>\n      <td>329.119722</td>\n    </tr>\n    <tr>\n      <th>0</th>\n      <td>00a6db666.hdf5</td>\n      <td>1.779411e-25</td>\n      <td>(3.6714905e-26+1.6741528e-26j)</td>\n      <td>213.288056</td>\n    </tr>\n    <tr>\n      <th>0</th>\n      <td>00f36a6ac.hdf5</td>\n      <td>2.703786e-26</td>\n      <td>(-9.8693624e-26-3.6599078e-26j)</td>\n      <td>453.359167</td>\n    </tr>\n    <tr>\n      <th>0</th>\n      <td>010a387db.hdf5</td>\n      <td>-7.878897e-26</td>\n      <td>(6.442983e-26-2.6589115e-26j)</td>\n      <td>231.983611</td>\n    </tr>\n    <tr>\n      <th>...</th>\n      <td>...</td>\n      <td>...</td>\n      <td>...</td>\n      <td>...</td>\n    </tr>\n    <tr>\n      <th>0</th>\n      <td>fe38dbe64.hdf5</td>\n      <td>1.986287e-27</td>\n      <td>(2.9517718e-26-4.4535038e-26j)</td>\n      <td>373.019722</td>\n    </tr>\n    <tr>\n      <th>0</th>\n      <td>feafd0d16.hdf5</td>\n      <td>-3.973601e-26</td>\n      <td>(5.1489706e-26-6.1739946e-26j)</td>\n      <td>481.319722</td>\n    </tr>\n    <tr>\n      <th>0</th>\n      <td>feeca844e.hdf5</td>\n      <td>-3.382550e-26</td>\n      <td>(4.5678313e-27-6.1452293e-28j)</td>\n      <td>369.324722</td>\n    </tr>\n    <tr>\n      <th>0</th>\n      <td>ff5ad023f.hdf5</td>\n      <td>5.578002e-26</td>\n      <td>(-6.8264504e-26+4.6519235e-26j)</td>\n      <td>293.868056</td>\n    </tr>\n    <tr>\n      <th>0</th>\n      <td>ffa1d19c7.hdf5</td>\n      <td>1.310730e-25</td>\n      <td>(-1.7246744e-26-3.2949928e-26j)</td>\n      <td>234.475833</td>\n    </tr>\n  </tbody>\n</table>\n<p>603 rows × 4 columns</p>\n</div>"
     },
     "execution_count": 19,
     "metadata": {},
     "output_type": "execute_result"
    }
   ],
   "source": [
    "# Function to convert scientific notation to float\n",
    "def convert_to_float(x):\n",
    "    return float(x)\n",
    "\n",
    "# Convert the values in the \"Avg H1-SFTs\" column to float\n",
    "complete_df_train['Avg H1-SFTs'] = complete_df_train['Avg H1-SFTs'].apply(convert_to_float)\n",
    "\n",
    "complete_df_train"
   ]
  },
  {
   "cell_type": "code",
   "execution_count": 20,
   "id": "c87cb69e-bf3d-4355-9e82-b0c28b3241d2",
   "metadata": {
    "pycharm": {
     "name": "#%%\n"
    }
   },
   "outputs": [
    {
     "name": "stderr",
     "output_type": "stream",
     "text": [
      "C:\\Users\\noudy\\DataSpellProjects\\Gravitational\\DS_venv\\lib\\site-packages\\ipykernel_launcher.py:3: ComplexWarning: Casting complex values to real discards the imaginary part\n",
      "  This is separate from the ipykernel package so we can avoid doing imports until\n"
     ]
    },
    {
     "data": {
      "text/plain": "                Id   Avg H1-SFTs   Avg L1-SFTs Avg Frequency_Hz\n0   001121a05.hdf5 -2.787475e-26 -7.563195e-26          53.6075\n0   004f23b2d.hdf5  5.795783e-26 -6.577777e-26       329.119722\n0   00a6db666.hdf5  1.779411e-25  3.671491e-26       213.288056\n0   00f36a6ac.hdf5  2.703786e-26 -9.869362e-26       453.359167\n0   010a387db.hdf5 -7.878897e-26  6.442983e-26       231.983611\n..             ...           ...           ...              ...\n0   fe38dbe64.hdf5  1.986287e-27  2.951772e-26       373.019722\n0   feafd0d16.hdf5 -3.973601e-26  5.148971e-26       481.319722\n0   feeca844e.hdf5 -3.382550e-26  4.567831e-27       369.324722\n0   ff5ad023f.hdf5  5.578002e-26 -6.826450e-26       293.868056\n0   ffa1d19c7.hdf5  1.310730e-25 -1.724674e-26       234.475833\n\n[603 rows x 4 columns]",
      "text/html": "<div>\n<style scoped>\n    .dataframe tbody tr th:only-of-type {\n        vertical-align: middle;\n    }\n\n    .dataframe tbody tr th {\n        vertical-align: top;\n    }\n\n    .dataframe thead th {\n        text-align: right;\n    }\n</style>\n<table border=\"1\" class=\"dataframe\">\n  <thead>\n    <tr style=\"text-align: right;\">\n      <th></th>\n      <th>Id</th>\n      <th>Avg H1-SFTs</th>\n      <th>Avg L1-SFTs</th>\n      <th>Avg Frequency_Hz</th>\n    </tr>\n  </thead>\n  <tbody>\n    <tr>\n      <th>0</th>\n      <td>001121a05.hdf5</td>\n      <td>-2.787475e-26</td>\n      <td>-7.563195e-26</td>\n      <td>53.6075</td>\n    </tr>\n    <tr>\n      <th>0</th>\n      <td>004f23b2d.hdf5</td>\n      <td>5.795783e-26</td>\n      <td>-6.577777e-26</td>\n      <td>329.119722</td>\n    </tr>\n    <tr>\n      <th>0</th>\n      <td>00a6db666.hdf5</td>\n      <td>1.779411e-25</td>\n      <td>3.671491e-26</td>\n      <td>213.288056</td>\n    </tr>\n    <tr>\n      <th>0</th>\n      <td>00f36a6ac.hdf5</td>\n      <td>2.703786e-26</td>\n      <td>-9.869362e-26</td>\n      <td>453.359167</td>\n    </tr>\n    <tr>\n      <th>0</th>\n      <td>010a387db.hdf5</td>\n      <td>-7.878897e-26</td>\n      <td>6.442983e-26</td>\n      <td>231.983611</td>\n    </tr>\n    <tr>\n      <th>...</th>\n      <td>...</td>\n      <td>...</td>\n      <td>...</td>\n      <td>...</td>\n    </tr>\n    <tr>\n      <th>0</th>\n      <td>fe38dbe64.hdf5</td>\n      <td>1.986287e-27</td>\n      <td>2.951772e-26</td>\n      <td>373.019722</td>\n    </tr>\n    <tr>\n      <th>0</th>\n      <td>feafd0d16.hdf5</td>\n      <td>-3.973601e-26</td>\n      <td>5.148971e-26</td>\n      <td>481.319722</td>\n    </tr>\n    <tr>\n      <th>0</th>\n      <td>feeca844e.hdf5</td>\n      <td>-3.382550e-26</td>\n      <td>4.567831e-27</td>\n      <td>369.324722</td>\n    </tr>\n    <tr>\n      <th>0</th>\n      <td>ff5ad023f.hdf5</td>\n      <td>5.578002e-26</td>\n      <td>-6.826450e-26</td>\n      <td>293.868056</td>\n    </tr>\n    <tr>\n      <th>0</th>\n      <td>ffa1d19c7.hdf5</td>\n      <td>1.310730e-25</td>\n      <td>-1.724674e-26</td>\n      <td>234.475833</td>\n    </tr>\n  </tbody>\n</table>\n<p>603 rows × 4 columns</p>\n</div>"
     },
     "execution_count": 20,
     "metadata": {},
     "output_type": "execute_result"
    }
   ],
   "source": [
    "# Convert the values in the \"Avg L1-SFTs\" column to float\n",
    "complete_df_train['Avg L1-SFTs'] = complete_df_train['Avg L1-SFTs'].apply(convert_to_float)\n",
    "\n",
    "complete_df_train"
   ]
  },
  {
   "cell_type": "code",
   "execution_count": 21,
   "id": "990f81c4-509d-497a-aefd-b023fac85f0d",
   "metadata": {
    "pycharm": {
     "name": "#%%\n"
    }
   },
   "outputs": [],
   "source": [
    "# Remove \".hdf5\" from the end of the Id column for each row\n",
    "complete_df_train['Id'] = complete_df_train['Id'].str[:-5]\n",
    "\n",
    "labels_df = pd.read_csv(train_labels)\n",
    "\n",
    "labels_df = labels_df.rename(columns={\"id\": \"Id\"})\n",
    "\n",
    "complete_df_train = pd.merge(complete_df_train, labels_df, on=\"Id\", how=\"inner\")"
   ]
  },
  {
   "cell_type": "code",
   "execution_count": 22,
   "id": "759bd109-d2de-4e88-90f9-8b07f579a5e5",
   "metadata": {
    "pycharm": {
     "name": "#%%\n"
    }
   },
   "outputs": [
    {
     "data": {
      "text/plain": "            Id   Avg H1-SFTs   Avg L1-SFTs Avg Frequency_Hz  target\n0    001121a05 -2.787475e-26 -7.563195e-26          53.6075       1\n1    004f23b2d  5.795783e-26 -6.577777e-26       329.119722       1\n2    00a6db666  1.779411e-25  3.671491e-26       213.288056       1\n3    00f36a6ac  2.703786e-26 -9.869362e-26       453.359167       1\n4    010a387db -7.878897e-26  6.442983e-26       231.983611       1\n..         ...           ...           ...              ...     ...\n598  fe38dbe64  1.986287e-27  2.951772e-26       373.019722       1\n599  feafd0d16 -3.973601e-26  5.148971e-26       481.319722       1\n600  feeca844e -3.382550e-26  4.567831e-27       369.324722       1\n601  ff5ad023f  5.578002e-26 -6.826450e-26       293.868056       1\n602  ffa1d19c7  1.310730e-25 -1.724674e-26       234.475833       1\n\n[603 rows x 5 columns]",
      "text/html": "<div>\n<style scoped>\n    .dataframe tbody tr th:only-of-type {\n        vertical-align: middle;\n    }\n\n    .dataframe tbody tr th {\n        vertical-align: top;\n    }\n\n    .dataframe thead th {\n        text-align: right;\n    }\n</style>\n<table border=\"1\" class=\"dataframe\">\n  <thead>\n    <tr style=\"text-align: right;\">\n      <th></th>\n      <th>Id</th>\n      <th>Avg H1-SFTs</th>\n      <th>Avg L1-SFTs</th>\n      <th>Avg Frequency_Hz</th>\n      <th>target</th>\n    </tr>\n  </thead>\n  <tbody>\n    <tr>\n      <th>0</th>\n      <td>001121a05</td>\n      <td>-2.787475e-26</td>\n      <td>-7.563195e-26</td>\n      <td>53.6075</td>\n      <td>1</td>\n    </tr>\n    <tr>\n      <th>1</th>\n      <td>004f23b2d</td>\n      <td>5.795783e-26</td>\n      <td>-6.577777e-26</td>\n      <td>329.119722</td>\n      <td>1</td>\n    </tr>\n    <tr>\n      <th>2</th>\n      <td>00a6db666</td>\n      <td>1.779411e-25</td>\n      <td>3.671491e-26</td>\n      <td>213.288056</td>\n      <td>1</td>\n    </tr>\n    <tr>\n      <th>3</th>\n      <td>00f36a6ac</td>\n      <td>2.703786e-26</td>\n      <td>-9.869362e-26</td>\n      <td>453.359167</td>\n      <td>1</td>\n    </tr>\n    <tr>\n      <th>4</th>\n      <td>010a387db</td>\n      <td>-7.878897e-26</td>\n      <td>6.442983e-26</td>\n      <td>231.983611</td>\n      <td>1</td>\n    </tr>\n    <tr>\n      <th>...</th>\n      <td>...</td>\n      <td>...</td>\n      <td>...</td>\n      <td>...</td>\n      <td>...</td>\n    </tr>\n    <tr>\n      <th>598</th>\n      <td>fe38dbe64</td>\n      <td>1.986287e-27</td>\n      <td>2.951772e-26</td>\n      <td>373.019722</td>\n      <td>1</td>\n    </tr>\n    <tr>\n      <th>599</th>\n      <td>feafd0d16</td>\n      <td>-3.973601e-26</td>\n      <td>5.148971e-26</td>\n      <td>481.319722</td>\n      <td>1</td>\n    </tr>\n    <tr>\n      <th>600</th>\n      <td>feeca844e</td>\n      <td>-3.382550e-26</td>\n      <td>4.567831e-27</td>\n      <td>369.324722</td>\n      <td>1</td>\n    </tr>\n    <tr>\n      <th>601</th>\n      <td>ff5ad023f</td>\n      <td>5.578002e-26</td>\n      <td>-6.826450e-26</td>\n      <td>293.868056</td>\n      <td>1</td>\n    </tr>\n    <tr>\n      <th>602</th>\n      <td>ffa1d19c7</td>\n      <td>1.310730e-25</td>\n      <td>-1.724674e-26</td>\n      <td>234.475833</td>\n      <td>1</td>\n    </tr>\n  </tbody>\n</table>\n<p>603 rows × 5 columns</p>\n</div>"
     },
     "execution_count": 22,
     "metadata": {},
     "output_type": "execute_result"
    }
   ],
   "source": [
    "complete_df_train"
   ]
  },
  {
   "cell_type": "code",
   "execution_count": 24,
   "id": "3727eee8-e165-40d0-9010-966ef9e4fc0f",
   "metadata": {
    "pycharm": {
     "name": "#%%\n"
    }
   },
   "outputs": [
    {
     "name": "stdout",
     "output_type": "stream",
     "text": [
      "Accuracy: 0.593103448275862\n"
     ]
    },
    {
     "data": {
      "text/plain": "array([ 1,  0,  1,  1,  1, -1,  0,  1,  1,  1,  1,  1,  0,  0,  1,  1,  0,\n        1,  0,  1,  1,  0,  1,  0,  1,  1,  1,  1,  1,  0,  0,  1,  1,  1,\n        0,  1,  1,  0,  1,  1,  1,  1,  1,  0,  0,  0,  1,  1,  1,  1,  1,\n        1,  1,  1,  0,  1,  1,  1,  0,  1,  1,  0,  1,  1,  1,  1,  0,  1,\n        1,  1,  0,  1,  1,  0,  0,  0,  1,  0,  1,  0,  1,  1,  1,  0,  0,\n        1,  0,  1,  1,  1,  0,  0,  1,  1,  0,  0,  1,  0,  0,  0,  1,  1,\n        1,  1,  1,  0,  1,  1,  1,  1,  1,  1, -1,  1,  1,  1,  1,  1,  0,\n        1,  1,  0,  1,  1,  1,  1,  1,  1,  1,  0,  1,  0,  1,  1,  0,  1,\n        1,  1,  0,  0,  0,  1,  1,  1,  1], dtype=int64)"
     },
     "execution_count": 24,
     "metadata": {},
     "output_type": "execute_result"
    }
   ],
   "source": [
    "from sklearn.model_selection import train_test_split\n",
    "from sklearn.neighbors import KNeighborsClassifier\n",
    "from sklearn.metrics import accuracy_score, precision_score, recall_score, f1_score\n",
    "\n",
    "\n",
    "# Separate the independent variables (predictor variables) from the dependent variable (response variable)\n",
    "X = complete_df_train[\"Avg Frequency_Hz\"].values.reshape(-1, 1)\n",
    "y = complete_df_train[\"target\"]\n",
    "\n",
    "# Split the data into training and test sets\n",
    "X_train, X_test, y_train, y_test = train_test_split(X, y, test_size=0.24, random_state=42)\n",
    "\n",
    "# Create an instance of the LogisticRegression model\n",
    "model = KNeighborsClassifier(n_neighbors = 5,metric = 'minkowski',p = 2)\n",
    "\n",
    "# Fit the model to the training data\n",
    "model.fit(X_train, y_train)\n",
    "\n",
    "# Make predictions on the test data\n",
    "y_pred = model.predict(X_test)\n",
    "\n",
    "# Calculate the accuracy, precision, recall, and F1 score\n",
    "accuracy = accuracy_score(y_test, y_pred)\n",
    "\n",
    "\n",
    "print(\"Accuracy:\", accuracy)\n",
    "y_pred\n"
   ]
  },
  {
   "cell_type": "code",
   "execution_count": 25,
   "id": "c6736f17-396e-4357-90c5-abf6feeca5a2",
   "metadata": {
    "pycharm": {
     "name": "#%%\n"
    }
   },
   "outputs": [
    {
     "name": "stdout",
     "output_type": "stream",
     "text": [
      "          Id   Avg H1-SFTs   Avg L1-SFTs Avg Frequency_Hz\n",
      "0  00054c878 -2.864107e-26  1.970546e-26       306.501944\n",
      "0  0007285a3 -2.269763e-26  1.093008e-25       126.448611\n",
      "0  00076c5a6 -3.871007e-26 -3.364705e-26       197.389167\n",
      "0  001349290  6.066534e-26  6.196433e-26        95.008056\n",
      "0  001a52e92  8.669040e-26  8.671533e-27       464.176944\n"
     ]
    },
    {
     "name": "stderr",
     "output_type": "stream",
     "text": [
      "C:\\Users\\noudy\\DataSpellProjects\\Gravitational\\DS_venv\\lib\\site-packages\\ipykernel_launcher.py:10: ComplexWarning: Casting complex values to real discards the imaginary part\n",
      "  # Remove the CWD from sys.path while we load stuff.\n"
     ]
    }
   ],
   "source": [
    "complete_df_test = pd.DataFrame(columns=[\"Id\", \"Avg H1-SFTs\", \"Avg L1-SFTs\", \"Avg Frequency_Hz\"])\n",
    "\n",
    "# Execute the traverse_hdf5 function on all files in the train folder and replace complete_df with complete_df + df\n",
    "for file in test_files:\n",
    "    df = traverse_hdf5(test_folder + '\\\\' + file, file)\n",
    "    complete_df_test = complete_df_test.append(df)\n",
    "    \n",
    "# Function to convert scientific notation to float\n",
    "def convert_to_float(x):\n",
    "    return float(x)\n",
    "\n",
    "\n",
    "# Remove \".hdf5\" from the end of the Id column for each row\n",
    "complete_df_test['Id'] = complete_df_test['Id'].str[:-5]\n",
    "\n",
    "# Convert the values in the \"Avg H1-SFTs\" column to float\n",
    "complete_df_test['Avg H1-SFTs'] = complete_df_test['Avg H1-SFTs'].apply(convert_to_float)\n",
    "\n",
    "# Convert the values in the \"Avg L1-SFTs\" column to float\n",
    "complete_df_test['Avg L1-SFTs'] = complete_df_test['Avg L1-SFTs'].apply(convert_to_float)\n",
    "\n",
    "\n",
    "print(complete_df_test.head())"
   ]
  },
  {
   "cell_type": "code",
   "execution_count": 13,
   "id": "e5a79a7e-2cd8-4b9b-980c-9e8b9935f936",
   "metadata": {
    "pycharm": {
     "name": "#%%\n"
    }
   },
   "outputs": [
    {
     "data": {
      "text/plain": [
       "array([1, 1, 1, ..., 0, 1, 0], dtype=int64)"
      ]
     },
     "execution_count": 13,
     "metadata": {},
     "output_type": "execute_result"
    }
   ],
   "source": [
    "X_test = complete_df_test.drop(columns=[\"Id\"])\n",
    "\n",
    "# Make predictions on the test data\n",
    "y_pred_test = model.predict(X_test)\n",
    "\n",
    "y_pred_test"
   ]
  },
  {
   "cell_type": "code",
   "execution_count": 16,
   "id": "6b7034bd-f85a-4046-8e71-ab6eccfed15e",
   "metadata": {
    "pycharm": {
     "name": "#%%\n"
    }
   },
   "outputs": [],
   "source": [
    "# Create csv file with first column being test_files without the .hdf5 extension and second column being the predictions\n",
    "submission = pd.DataFrame({'Id': test_files, 'target': y_pred_test})\n",
    "submission['Id'] = submission['Id'].str[:-5]\n",
    "submission.to_csv('submission.csv', columns=[\"Id\", \"target\"], index=False)"
   ]
  },
  {
   "cell_type": "code",
   "execution_count": 15,
   "id": "971e673e-0718-4144-9a14-f399a6d9c4a8",
   "metadata": {
    "pycharm": {
     "name": "#%%\n"
    }
   },
   "outputs": [
    {
     "data": {
      "text/plain": [
       " 1    5847\n",
       " 0    2040\n",
       "-1      88\n",
       "Name: target, dtype: int64"
      ]
     },
     "execution_count": 15,
     "metadata": {},
     "output_type": "execute_result"
    }
   ],
   "source": [
    "submission['target'].value_counts()"
   ]
  },
  {
   "cell_type": "code",
   "execution_count": null,
   "id": "716a0f78-a9a6-416f-8200-c8cb6f525ca4",
   "metadata": {
    "pycharm": {
     "name": "#%%\n"
    }
   },
   "outputs": [],
   "source": []
  }
 ],
 "metadata": {
  "kernelspec": {
   "display_name": "Python 3 (ipykernel)",
   "language": "python",
   "name": "python3"
  },
  "language_info": {
   "codemirror_mode": {
    "name": "ipython",
    "version": 3
   },
   "file_extension": ".py",
   "mimetype": "text/x-python",
   "name": "python",
   "nbconvert_exporter": "python",
   "pygments_lexer": "ipython3",
   "version": "3.7.9"
  }
 },
 "nbformat": 4,
 "nbformat_minor": 5
}