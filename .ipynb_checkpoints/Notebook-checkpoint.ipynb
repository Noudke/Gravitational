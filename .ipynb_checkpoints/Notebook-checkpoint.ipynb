{
 "cells": [
  {
   "cell_type": "code",
   "execution_count": 1,
   "metadata": {
    "pycharm": {
     "is_executing": true
    }
   },
   "outputs": [
    {
     "ename": "ModuleNotFoundError",
     "evalue": "No module named 'h5py'",
     "output_type": "error",
     "traceback": [
      "\u001b[1;31m---------------------------------------------------------------------------\u001b[0m",
      "\u001b[1;31mModuleNotFoundError\u001b[0m                       Traceback (most recent call last)",
      "Cell \u001b[1;32mIn[1], line 1\u001b[0m\n\u001b[1;32m----> 1\u001b[0m \u001b[38;5;28;01mimport\u001b[39;00m \u001b[38;5;21;01mh5py\u001b[39;00m \u001b[38;5;28;01mas\u001b[39;00m \u001b[38;5;21;01mh5\u001b[39;00m\n\u001b[0;32m      2\u001b[0m \u001b[38;5;28;01mimport\u001b[39;00m \u001b[38;5;21;01mnumpy\u001b[39;00m \u001b[38;5;28;01mas\u001b[39;00m \u001b[38;5;21;01mnp\u001b[39;00m\n\u001b[0;32m      3\u001b[0m \u001b[38;5;28;01mimport\u001b[39;00m \u001b[38;5;21;01mmatplotlib\u001b[39;00m\u001b[38;5;21;01m.\u001b[39;00m\u001b[38;5;21;01mpyplot\u001b[39;00m \u001b[38;5;28;01mas\u001b[39;00m \u001b[38;5;21;01mplt\u001b[39;00m\n",
      "\u001b[1;31mModuleNotFoundError\u001b[0m: No module named 'h5py'"
     ]
    }
   ],
   "source": [
    "import h5py as h5\n",
    "import numpy as np\n",
    "import matplotlib.pyplot as plt\n",
    "import os\n",
    "\n",
    "train_folder = 'D:\\\\Datasets\\\\g2net-detecting-continuous-gravitational-waves (1)\\\\train'\n",
    "test_folder = 'D:\\\\Datasets\\\\g2net-detecting-continuous-gravitational-waves (1)\\\\test'"
   ]
  },
  {
   "cell_type": "code",
   "execution_count": 2,
   "metadata": {},
   "outputs": [],
   "source": [
    "# List of names of all files in the folder\n",
    "train_files = os.listdir(train_folder)\n",
    "test_files = os.listdir(test_folder)\n",
    "\n",
    "train_labels = 'D:\\\\Datasets\\\\g2net-detecting-continuous-gravitational-waves (1)\\\\train_labels.csv'"
   ]
  },
  {
   "cell_type": "code",
   "execution_count": 3,
   "metadata": {},
   "outputs": [
    {
     "name": "stdout",
     "output_type": "stream",
     "text": [
      "{'id': 'target\\n', '001121a05': '1\\n', '004f23b2d': '1\\n', '00a6db666': '1\\n', '00f36a6ac': '1\\n', '010a387db': '1\\n', '0197bacf8': '1\\n', '01b8b67f3': '1\\n', '01bcf6533': '0\\n', '01dba9731': '1\\n', '021248995': '1\\n', '02887d232': '1\\n', '029ed046c': '0\\n', '02c478b09': '1\\n', '02c8f43f3': '0\\n', '03189bb3d': '1\\n', '0367dc82c': '1\\n', '04673609a': '1\\n', '047e6e2a3': '1\\n', '0517ef7fe': '1\\n', '05c0675fe': '1\\n', '05cdc0769': '0\\n', '05f0aef12': '1\\n', '067b3fb4b': '1\\n', '06e321c6e': '0\\n', '07b326ea1': '1\\n', '08a060dad': '1\\n', '08c444d66': '1\\n', '09134f1c2': '1\\n', '0920a4276': '1\\n', '09531cde3': '1\\n', '097370861': '1\\n', '09e55aeba': '0\\n', '09ecddbba': '1\\n', '0ba188c57': '1\\n', '0bc8216f2': '1\\n', '0c102ab5a': '1\\n', '0c30b3fef': '0\\n', '0c55d030c': '0\\n', '0d0ad0b19': '1\\n', '0dc4c8ed0': '1\\n', '0e39a18bf': '1\\n', '0e60d4893': '0\\n', '0e66d0460': '0\\n', '0eb30f7c4': '0\\n', '0ebe28dd5': '0\\n', '0ee090299': '1\\n', '0f53d8b96': '1\\n', '10dfa2ed6': '0\\n', '10eaa1cb2': '0\\n', '113ef0cbc': '0\\n', '1185806d8': '1\\n', '119610501': '1\\n', '123594dc7': '1\\n', '1282f6c1f': '1\\n', '12f0fd6fd': '0\\n', '12f9824fa': '0\\n', '13a23148f': '0\\n', '13df1746e': '1\\n', '147cc5f92': '1\\n', '1510f75f9': '1\\n', '1523dcd0c': '1\\n', '15711ccac': '0\\n', '1607fd753': '1\\n', '1712c1199': '1\\n', '172f7b322': '1\\n', '1748ad051': '1\\n', '176bbd2f3': '1\\n', '177d1a100': '0\\n', '1796d0836': '1\\n', '185861ab1': '0\\n', '1870a98f1': '1\\n', '18820ee18': '1\\n', '18e3c9a55': '0\\n', '19adcfeb2': '0\\n', '1a25b5854': '0\\n', '1afaf159d': '1\\n', '1b6398c69': '1\\n', '1b9093ebf': '0\\n', '1b9900804': '1\\n', '1bae97647': '1\\n', '1be8a8204': '1\\n', '1c231832f': '0\\n', '1c48ee79b': '1\\n', '1d6391602': '1\\n', '1d7a66a28': '1\\n', '1e0dace1a': '1\\n', '1e1546ee1': '1\\n', '1e7151470': '1\\n', '1ee822a1a': '0\\n', '1f2d669eb': '0\\n', '1f583715c': '0\\n', '1f6e14d66': '0\\n', '1fb2b6ed9': '1\\n', '22aa79cce': '1\\n', '22aab5f89': '1\\n', '22fecc394': '1\\n', '2308c22b0': '1\\n', '23cbc772c': '1\\n', '23d9ad088': '1\\n', '240296c02': '1\\n', '24d4318ba': '0\\n', '24e6e8e15': '0\\n', '251fbe8ef': '1\\n', '25473bc70': '1\\n', '25af27775': '1\\n', '25f844863': '1\\n', '263c0f2e9': '0\\n', '2672d1f40': '1\\n', '2688e48bd': '1\\n', '268d09231': '0\\n', '26ef54407': '0\\n', '27232453b': '0\\n', '27762456f': '0\\n', '282750892': '1\\n', '2854c24d8': '1\\n', '287804e8b': '1\\n', '29687fae4': '0\\n', '2ace8fe15': '0\\n', '2b7b6e431': '1\\n', '2ba050f5e': '0\\n', '2bd2dd727': '1\\n', '2bd75102b': '0\\n', '2bdb28c78': '1\\n', '2c1df1c81': '0\\n', '2c5321cc0': '0\\n', '2c72fb4ac': '0\\n', '2c9403b8e': '1\\n', '2d3f151eb': '0\\n', '2d89a273e': '0\\n', '2dc21b1ee': '1\\n', '2e3fa3232': '0\\n', '2e542c33a': '1\\n', '2e6cbc467': '0\\n', '2fc419e4e': '1\\n', '306fae0da': '1\\n', '30e92e515': '1\\n', '317e19923': '1\\n', '32179f0ec': '1\\n', '323bd9224': '0\\n', '333198dd7': '1\\n', '3361473ed': '0\\n', '33c1d3a53': '1\\n', '3417bb420': '0\\n', '349d20d4d': '1\\n', '34e55c0cc': '0\\n', '353500935': '0\\n', '355ad9213': '1\\n', '356b29584': '1\\n', '358782926': '1\\n', '35988fca2': '1\\n', '361f0aabf': '0\\n', '363b97e4c': '1\\n', '366ed658d': '1\\n', '36acfee58': '1\\n', '36b58c6a6': '0\\n', '385cb9223': '1\\n', '38b48b464': '1\\n', '390be90e6': '0\\n', '39df37ce4': '1\\n', '3a7c4e34b': '1\\n', '3a8976f92': '1\\n', '3aac33909': '1\\n', '3b369542d': '1\\n', '3c0375e76': '1\\n', '3c0a9189a': '0\\n', '3c89d38a7': '1\\n', '3cb90297e': '1\\n', '3cf68ada2': '1\\n', '3e6247cc0': '1\\n', '3f7ce17c9': '1\\n', '3feb0cf04': '1\\n', '406c335da': '1\\n', '407a9d0a3': '1\\n', '418eb68bc': '1\\n', '42498de2c': '1\\n', '42761bafa': '0\\n', '4457d6c44': '1\\n', '451ced0f0': '0\\n', '4528f13cc': '1\\n', '4548f2771': '1\\n', '462fec2d4': '0\\n', '473a87d34': '1\\n', '48112f9b3': '1\\n', '485be3a9b': '1\\n', '48aa5b411': '0\\n', '48e0a7e76': '0\\n', '493e475c7': '1\\n', '4ad83b3e8': '1\\n', '4ae1b9820': '1\\n', '4b38ce792': '1\\n', '4b4587083': '0\\n', '4b470699d': '1\\n', '4c540bb3b': '1\\n', '4c7c40afb': '1\\n', '4e7400077': '1\\n', '4f61f078b': '1\\n', '4f6fb7aec': '1\\n', '50f09e37e': '-1\\n', '5239e63bb': '1\\n', '531bb4e66': '1\\n', '537efb3fd': '1\\n', '546066aa9': '0\\n', '54e55acf5': '0\\n', '54e86cff5': '0\\n', '558631319': '1\\n', '56be7cf87': '1\\n', '5716d1b2a': '1\\n', '57967c42e': '1\\n', '57ec3bee1': '1\\n', '5804982ad': '1\\n', '58ab2288e': '1\\n', '59b8fcb43': '0\\n', '59bab8cce': '1\\n', '5a94c1fee': '1\\n', '5b9f01d0f': '0\\n', '5c8b0fafb': '1\\n', '5c973f93b': '1\\n', '5e1579a97': '0\\n', '5e1a7fdf6': '1\\n', '5eb13d27e': '1\\n', '5f1a567b1': '1\\n', '5fbeeade4': '0\\n', '601cf959e': '0\\n', '60f278723': '0\\n', '6100b0f2c': '1\\n', '6112053b2': '0\\n', '61669dba8': '1\\n', '61d59830f': '1\\n', '624188624': '1\\n', '62a276084': '1\\n', '62b0dd011': '-1\\n', '63516d7d8': '1\\n', '64026c8a5': '0\\n', '64866cb88': '1\\n', '651ad768f': '1\\n', '6554662f3': '1\\n', '661a9029c': '0\\n', '661b0d704': '1\\n', '66ab88c85': '1\\n', '66c0f74d0': '1\\n', '670ffd824': '0\\n', '675201446': '1\\n', '67a833214': '0\\n', '67afb087d': '0\\n', '67b636706': '1\\n', '6874bc680': '0\\n', '68848db68': '0\\n', '68aa2d9fe': '1\\n', '69196d998': '1\\n', '699e1051d': '1\\n', '69fa4d39a': '1\\n', '6aa71ee15': '1\\n', '6bc766535': '1\\n', '6be437d5a': '1\\n', '6c4cf4a61': '1\\n', '6c88462c0': '1\\n', '6cbd3ed51': '1\\n', '6cc04126c': '1\\n', '6cfe15d1d': '1\\n', '6dbd5ed82': '1\\n', '6e0db53d2': '1\\n', '6e2c1b74f': '1\\n', '6e8d6d5af': '1\\n', '6f99fc924': '1\\n', '6ff04000b': '1\\n', '7293225a6': '1\\n', '72ecbd37a': '0\\n', '740e2d884': '1\\n', '745a8ef1c': '0\\n', '747eac1c9': '1\\n', '74cde7b2c': '1\\n', '75817a831': '1\\n', '75880c20b': '1\\n', '77306e70a': '0\\n', '77b9c1867': '0\\n', '784203316': '1\\n', '789a37ee5': '1\\n', '78db1e8dc': '1\\n', '79b410e00': '0\\n', '7ad0bdbbb': '0\\n', '7af268397': '0\\n', '7b4612592': '0\\n', '7b95b20f9': '1\\n', '7bfd3778f': '0\\n', '7c15564f0': '0\\n', '7c2e38128': '1\\n', '7c63d94b0': '0\\n', '7d75ea4b9': '1\\n', '7e9ac95e8': '0\\n', '7e9d59d7c': '1\\n', '7eb5e6d9e': '0\\n', '7eb5fefb0': '1\\n', '7f21a5524': '1\\n', '7f36dcfdd': '1\\n', '7fb02df1a': '1\\n', '8048a1b41': '1\\n', '806206030': '0\\n', '8066112e9': '0\\n', '80933810a': '1\\n', '80dd6e242': '0\\n', '811ac8995': '1\\n', '811f69022': '1\\n', '81ce401be': '1\\n', '81d69bcf1': '1\\n', '82455029d': '1\\n', '830aa33d9': '0\\n', '8313558e1': '0\\n', '83a07a0f4': '1\\n', '84787542a': '0\\n', '84b1d68a2': '1\\n', '84d1bf7ac': '0\\n', '8576feb51': '1\\n', '8726c2ea3': '0\\n', '87c57ef96': '1\\n', '87caae05c': '1\\n', '8843cba37': '0\\n', '88f72f55b': '1\\n', '897fc9cec': '1\\n', '89ecf1e35': '0\\n', '8a12330dd': '1\\n', '8a44f1aea': '1\\n', '8a5b54ff4': '1\\n', '8b05870f3': '0\\n', '8bde66206': '1\\n', '8c0426b33': '1\\n', '8c0b72f6d': '0\\n', '8c76cc66b': '1\\n', '8c8b35cae': '1\\n', '8ccf4303c': '0\\n', '8d00eb018': '1\\n', '8d91e3198': '1\\n', '8daa73630': '1\\n', '8de80ab57': '1\\n', '8e4a149db': '1\\n', '8e6d8861c': '1\\n', '8e8f659ff': '0\\n', '8ec3a2658': '1\\n', '8efc6714b': '0\\n', '8f4757978': '1\\n', '8f7d5e183': '1\\n', '8f81a51c5': '1\\n', '900b83b9c': '1\\n', '902ef7847': '0\\n', '9044bf5f9': '1\\n', '90a82ee7b': '0\\n', '90f77f4e7': '1\\n', '9111ecc8f': '1\\n', '920622618': '1\\n', '92096488b': '1\\n', '921fa225b': '1\\n', '922f244e8': '1\\n', '931ebd322': '1\\n', '9334df9a8': '0\\n', '9445ca914': '1\\n', '9455228c8': '1\\n', '946f81b43': '0\\n', '957a9554b': '0\\n', '95a39955e': '1\\n', '95c5ecdea': '1\\n', '95e239ace': '0\\n', '96b5f60ef': '1\\n', '96f3d29da': '1\\n', '97d0f8b07': '1\\n', '97ee205fa': '1\\n', '987debf8d': '0\\n', '9897aa1a0': '1\\n', '995d3d2e3': '1\\n', '999f3dbd9': '1\\n', '99c06b292': '0\\n', '9a51fc405': '1\\n', '9aa168e09': '0\\n', '9ac129628': '1\\n', '9adc82e0d': '1\\n', '9b781d2f8': '0\\n', '9cdb287df': '0\\n', '9d5c8200b': '1\\n', '9e243e42f': '1\\n', '9e6943a2c': '0\\n', '9e75a534c': '0\\n', '9e811dd88': '1\\n', '9e8fff090': '0\\n', '9e9cad834': '0\\n', '9eb0763f5': '1\\n', '9f207f412': '1\\n', '9f5c7e3e0': '1\\n', 'a0bf5dd9b': '0\\n', 'a1b5822d1': '0\\n', 'a30d2f729': '1\\n', 'a417620f1': '1\\n', 'a468d58ee': '1\\n', 'a4f8d75cd': '1\\n', 'a669730ed': '1\\n', 'a78846d29': '1\\n', 'a78d9061d': '1\\n', 'a797ca3fb': '1\\n', 'a803ee3ea': '1\\n', 'a8806635c': '1\\n', 'a8b7d4379': '1\\n', 'a915e53f9': '1\\n', 'a95bf4a5a': '0\\n', 'a9ae6bdc1': '1\\n', 'aa0319341': '0\\n', 'aa712bb74': '0\\n', 'aaef1c8d5': '1\\n', 'aaf099144': '0\\n', 'aafcdf8cc': '1\\n', 'ab0762f7e': '1\\n', 'ab2e6aa3e': '1\\n', 'ac24860ea': '1\\n', 'ac27a93df': '0\\n', 'ac38462c8': '0\\n', 'acd6f59cb': '1\\n', 'acdc07a39': '1\\n', 'ade94a70b': '1\\n', 'adebec525': '0\\n', 'ae3ea66b8': '0\\n', 'aea353ef2': '1\\n', 'aed5a36c7': '1\\n', 'afd1d842d': '1\\n', 'b00432eb6': '1\\n', 'b04fb007b': '0\\n', 'b0e6a0ee7': '1\\n', 'b17999ae0': '0\\n', 'b1874db88': '0\\n', 'b19cc3156': '1\\n', 'b200d071e': '1\\n', 'b29b86665': '1\\n', 'b2de8fa99': '1\\n', 'b3aa34dd6': '1\\n', 'b3cb4bff1': '0\\n', 'b4afdfee3': '1\\n', 'b50128af1': '1\\n', 'b5af1da4f': '0\\n', 'b5fc158fc': '0\\n', 'b6c657454': '1\\n', 'b6d8f545d': '1\\n', 'b72691822': '1\\n', 'b7666b451': '-1\\n', 'b81b2d420': '0\\n', 'b832e8026': '0\\n', 'b8a6f8533': '0\\n', 'b8a9fd77b': '1\\n', 'b8e3296d1': '1\\n', 'b9d40ffc1': '1\\n', 'b9eef44ca': '1\\n', 'ba40a5504': '0\\n', 'ba8e0d85c': '1\\n', 'bb91347e4': '1\\n', 'bba906178': '0\\n', 'bbe29f938': '1\\n', 'bc18ddb0e': '0\\n', 'bd5232e36': '1\\n', 'bd88a17c8': '0\\n', 'bd8ff8fc0': '1\\n', 'be17d9b9e': '0\\n', 'be2f08e15': '0\\n', 'bf3b1baae': '0\\n', 'bfa257e53': '1\\n', 'bfb9066f8': '0\\n', 'c0218fc5a': '0\\n', 'c0d6ca20e': '1\\n', 'c13427198': '1\\n', 'c13d54f54': '1\\n', 'c2404665a': '0\\n', 'c33be6d2e': '1\\n', 'c3c4a8299': '0\\n', 'c5866e605': '0\\n', 'c5d3bd23e': '0\\n', 'c5e6d441b': '1\\n', 'c6ac8be96': '0\\n', 'c73579fd0': '0\\n', 'c7553a480': '0\\n', 'c7a4e1258': '1\\n', 'c7a720723': '0\\n', 'c8703b30f': '1\\n', 'c905d3e5a': '1\\n', 'c9583769f': '1\\n', 'c9d586de3': '1\\n', 'ca9f37e76': '0\\n', 'cadf61a72': '1\\n', 'cb68081ff': '1\\n', 'cbf517385': '1\\n', 'cbff2fdcd': '0\\n', 'cc0dbb498': '1\\n', 'cc51ccd26': '1\\n', 'cc561e4fc': '1\\n', 'ccdd4b41f': '1\\n', 'ccddd8fac': '1\\n', 'ccf084990': '1\\n', 'cdae780ee': '1\\n', 'cecf079ed': '1\\n', 'd05224641': '1\\n', 'd0a50aaa7': '0\\n', 'd0e04cb56': '1\\n', 'd13361dc7': '0\\n', 'd150da72a': '0\\n', 'd1c29a2db': '1\\n', 'd2e056f41': '0\\n', 'd36cd3273': '1\\n', 'd3d5e3a3b': '1\\n', 'd40a568aa': '1\\n', 'd4188d098': '1\\n', 'd42930dbe': '1\\n', 'd46f1776d': '1\\n', 'd4da9c0f4': '1\\n', 'd509966eb': '1\\n', 'd56d09dd7': '1\\n', 'd5ba55910': '1\\n', 'd5db4ffe7': '1\\n', 'd5e28ff42': '1\\n', 'd61dbc5dd': '0\\n', 'd637da06b': '1\\n', 'd64cfeb51': '0\\n', 'd65210c99': '1\\n', 'd816526ca': '1\\n', 'd85d8b8d1': '1\\n', 'd8ba81d34': '1\\n', 'd8c7a1fe2': '1\\n', 'd900ea204': '1\\n', 'd9acc5522': '1\\n', 'da00bd839': '0\\n', 'da9a0b22f': '1\\n', 'dc2bb4444': '1\\n', 'dd2ff8966': '1\\n', 'dd39c3bf6': '1\\n', 'ddfb0ea7e': '1\\n', 'de1571922': '0\\n', 'de5500913': '1\\n', 'de9b07e8c': '1\\n', 'decc04720': '0\\n', 'def07ad91': '1\\n', 'df2b53c1e': '1\\n', 'df47fce79': '0\\n', 'dfe229aa1': '1\\n', 'e05abc26e': '0\\n', 'e0be71717': '0\\n', 'e0cdcda46': '1\\n', 'e2708dc74': '1\\n', 'e32cd66a7': '0\\n', 'e331c691e': '1\\n', 'e33b56aba': '0\\n', 'e38adfee0': '1\\n', 'e3922fed4': '1\\n', 'e397d35ba': '1\\n', 'e3c549c93': '1\\n', 'e41d12873': '0\\n', 'e5f0ec691': '0\\n', 'e68dc7828': '1\\n', 'e6ac92667': '0\\n', 'e6bf339c5': '1\\n', 'e6ee7a620': '0\\n', 'e6faf5df8': '0\\n', 'e706edccc': '0\\n', 'e7301434c': '0\\n', 'e78013272': '0\\n', 'e7c63be42': '1\\n', 'e7c7ce8db': '1\\n', 'e7f5a0db3': '1\\n', 'e84a65983': '1\\n', 'e877b6a70': '0\\n', 'e91675f49': '0\\n', 'e99ca0e32': '1\\n', 'e9dc440e5': '1\\n', 'ea64758c5': '0\\n', 'ec31b4010': '0\\n', 'ec4fa9e60': '0\\n', 'ecd9c50cd': '1\\n', 'ed3fcedbb': '1\\n', 'ed81a7719': '1\\n', 'eecb263df': '1\\n', 'eef3b8970': '0\\n', 'ef2e1a898': '0\\n', 'f13064569': '1\\n', 'f1a8f61a1': '1\\n', 'f2963d3c6': '0\\n', 'f2a78cf84': '0\\n', 'f32b93a8a': '1\\n', 'f3a0ba446': '0\\n', 'f4770e47b': '0\\n', 'f4b6baa3d': '1\\n', 'f5bc1d28f': '1\\n', 'f5f6f2192': '1\\n', 'f6481aa83': '0\\n', 'f726476cd': '1\\n', 'f773f83db': '0\\n', 'f78f28cbe': '1\\n', 'f83131c78': '1\\n', 'f8792034c': '0\\n', 'f8cd7e52f': '0\\n', 'f8d52102e': '1\\n', 'f96b81dd5': '1\\n', 'f9ce02fd5': '0\\n', 'fa6d6ab15': '1\\n', 'faefe5c95': '1\\n', 'fb0131d8c': '1\\n', 'fb353f172': '1\\n', 'fb6db0d08': '0\\n', 'fd853655c': '1\\n', 'fe38dbe64': '1\\n', 'feafd0d16': '1\\n', 'feeca844e': '1\\n', 'ff5ad023f': '1\\n', 'ffa1d19c7': '1\\n'}\n"
     ]
    }
   ],
   "source": [
    "# Create a dictionary with train_files values as keys and train_labels values as values\n",
    "train_labels_dict = {}\n",
    "with open(train_labels, 'r') as f:\n",
    "    for line in f:\n",
    "        (key, val) = line.split(',')\n",
    "        train_labels_dict[key] = val\n",
    "\n",
    "print(train_labels_dict)\n",
    "\n",
    "# Remove \"\\n\" from the end of the values\n",
    "for key in train_labels_dict:\n",
    "    train_labels_dict[key] = train_labels_dict[key].rstrip()"
   ]
  },
  {
   "cell_type": "code",
   "execution_count": 4,
   "metadata": {},
   "outputs": [],
   "source": [
    "# List of names of all files in the folder\n",
    "train_files = os.listdir(train_folder)\n",
    "test_files = os.listdir(test_folder)\n",
    "\n",
    "train_labels = 'D:\\\\Datasets\\\\g2net-detecting-continuous-gravitational-waves (1)\\\\train_labels.csv'"
   ]
  }
 ],
 "metadata": {
  "kernelspec": {
   "display_name": "Python 3 (ipykernel)",
   "language": "python",
   "name": "python3"
  },
  "language_info": {
   "codemirror_mode": {
    "name": "ipython",
    "version": 3
   },
   "file_extension": ".py",
   "mimetype": "text/x-python",
   "name": "python",
   "nbconvert_exporter": "python",
   "pygments_lexer": "ipython3",
   "version": "3.11.1"
  }
 },
 "nbformat": 4,
 "nbformat_minor": 1
}
