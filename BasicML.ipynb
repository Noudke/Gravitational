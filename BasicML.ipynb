{
 "cells": [
  {
   "cell_type": "code",
   "execution_count": 1,
   "id": "968e04ad-cd1a-4366-b463-a376642e2679",
   "metadata": {
    "pycharm": {
     "name": "#%%\n"
    }
   },
   "outputs": [],
   "source": [
    "import h5py as h5\n",
    "import numpy as np\n",
    "import matplotlib.pyplot as plt\n",
    "import pandas as pd\n",
    "import os\n",
    "\n",
    "train_folder = 'D:\\\\Datasets\\\\g2net-detecting-continuous-gravitational-waves (1)\\\\train'\n",
    "test_folder = 'D:\\\\Datasets\\\\g2net-detecting-continuous-gravitational-waves (1)\\\\test'\n",
    "\n",
    "# List of names of all files in the folder\n",
    "train_files = os.listdir(train_folder)\n",
    "test_files = os.listdir(test_folder)"
   ]
  },
  {
   "cell_type": "code",
   "execution_count": 2,
   "id": "e721c34c-50bf-40cd-8fc8-5182b57bb746",
   "metadata": {
    "pycharm": {
     "name": "#%%\n"
    }
   },
   "outputs": [],
   "source": [
    "# Get train_labels and associate them with appropriate files\n",
    "\n",
    "train_labels = 'D:\\\\Datasets\\\\g2net-detecting-continuous-gravitational-waves (1)\\\\train_labels.csv'\n",
    "\n",
    "# Create a dictionary with train_files values as keys and train_labels values as values\n",
    "train_labels_dict = {}\n",
    "with open(train_labels, 'r') as f:\n",
    "    for line in f:\n",
    "        (key, val) = line.split(',')\n",
    "        train_labels_dict[key] = val\n",
    "\n",
    "# Remove \"\\n\" from the end of the values\n",
    "for key in train_labels_dict:\n",
    "    train_labels_dict[key] = train_labels_dict[key].rstrip()"
   ]
  },
  {
   "cell_type": "code",
   "execution_count": 3,
   "id": "f6ab6154-0c12-44fb-8a85-638508a2dca3",
   "metadata": {
    "pycharm": {
     "name": "#%%\n"
    }
   },
   "outputs": [
    {
     "name": "stdout",
     "output_type": "stream",
     "text": [
      "<HDF5 group \"/004f23b2d\" (3 members)>\n",
      "----><HDF5 group \"/004f23b2d/H1\" (2 members)>\n",
      "---------><HDF5 dataset \"SFTs\": shape (360, 4546), type \"<c8\">\n",
      "---------><HDF5 dataset \"timestamps_GPS\": shape (4546,), type \"<i8\">\n",
      "----><HDF5 group \"/004f23b2d/L1\" (2 members)>\n",
      "---------><HDF5 dataset \"SFTs\": shape (360, 4630), type \"<c8\">\n",
      "---------><HDF5 dataset \"timestamps_GPS\": shape (4630,), type \"<i8\">\n",
      "----><HDF5 dataset \"frequency_Hz\": shape (360,), type \"<f8\">\n"
     ]
    }
   ],
   "source": [
    "# Get contents of first train file\n",
    "\n",
    "with h5.File(train_folder + '\\\\' + train_files[1], 'r') as f:\n",
    "    for file_key in f.keys():\n",
    "        group = f[file_key]\n",
    "        print(group)\n",
    "        try:\n",
    "            for group_key in group.keys():\n",
    "                group2 = group[group_key]\n",
    "                print(f\"---->{group2}\")\n",
    "                for group_key2 in group2.keys():\n",
    "                    print(f\"--------->{group2[group_key2]}\")\n",
    "        except AttributeError:\n",
    "            pass\n"
   ]
  },
  {
   "cell_type": "code",
   "execution_count": 4,
   "id": "cf5db4a7-1a4a-4c54-a8ca-dbc2e29c3fa0",
   "metadata": {
    "pycharm": {
     "name": "#%%\n"
    }
   },
   "outputs": [],
   "source": [
    "def traverse_hdf5(hdf5_file, file_name):\n",
    "    data = []\n",
    "    # Open the HDF5 file\n",
    "    with h5.File(hdf5_file, 'r') as f:\n",
    "        # Recursively traverse through the groups in the HDF5 file\n",
    "        def traverse(name, path):\n",
    "            # Get the object at the current path\n",
    "            obj = f[name]\n",
    "            # If the object is a group, traverse through it\n",
    "            if isinstance(obj, h5.Group):\n",
    "                for key in obj.keys():\n",
    "                    traverse(f\"{name}/{key}\", f\"{path}/{key}\")\n",
    "            # If the object is a dataset, store the data and the dataset name in the list\n",
    "            elif isinstance(obj, h5.Dataset):\n",
    "                data.append((obj[()], path, file_name))\n",
    "        traverse(\"/\", \"/\")\n",
    "    # Create a Pandas dataframe from the data\n",
    "    df = pd.DataFrame(data, columns=[\"data\", \"name\", \"file\"])\n",
    "\n",
    "    # Rename the \"Filename\" column to \"id\"\n",
    "    df.rename(columns={'file': 'Id'}, inplace=True)\n",
    "\n",
    "    return df"
   ]
  },
  {
   "cell_type": "code",
   "execution_count": 5,
   "id": "140817c3-1a08-4e2b-8b86-25b280b0a0f8",
   "metadata": {
    "pycharm": {
     "name": "#%%\n"
    }
   },
   "outputs": [
    {
     "data": {
      "text/plain": "                                                data  \\\n0  [[(-2.017801e-24+1.7066067e-22j), (-1.4645843e...   \n1  [1238170021, 1238171821, 1238173621, 123817542...   \n2  [[(1.643243e-22-3.1472818e-23j), (-1.0013719e-...   \n3  [1238169614, 1238171414, 1238173214, 123817501...   \n4  [53.50777777777778, 53.50833333333334, 53.5088...   \n\n                            name              Id  data_length  \n0            //001121a05/H1/SFTs  001121a05.hdf5          360  \n1  //001121a05/H1/timestamps_GPS  001121a05.hdf5         4612  \n2            //001121a05/L1/SFTs  001121a05.hdf5          360  \n3  //001121a05/L1/timestamps_GPS  001121a05.hdf5         4653  \n4       //001121a05/frequency_Hz  001121a05.hdf5          360  ",
      "text/html": "<div>\n<style scoped>\n    .dataframe tbody tr th:only-of-type {\n        vertical-align: middle;\n    }\n\n    .dataframe tbody tr th {\n        vertical-align: top;\n    }\n\n    .dataframe thead th {\n        text-align: right;\n    }\n</style>\n<table border=\"1\" class=\"dataframe\">\n  <thead>\n    <tr style=\"text-align: right;\">\n      <th></th>\n      <th>data</th>\n      <th>name</th>\n      <th>Id</th>\n      <th>data_length</th>\n    </tr>\n  </thead>\n  <tbody>\n    <tr>\n      <th>0</th>\n      <td>[[(-2.017801e-24+1.7066067e-22j), (-1.4645843e...</td>\n      <td>//001121a05/H1/SFTs</td>\n      <td>001121a05.hdf5</td>\n      <td>360</td>\n    </tr>\n    <tr>\n      <th>1</th>\n      <td>[1238170021, 1238171821, 1238173621, 123817542...</td>\n      <td>//001121a05/H1/timestamps_GPS</td>\n      <td>001121a05.hdf5</td>\n      <td>4612</td>\n    </tr>\n    <tr>\n      <th>2</th>\n      <td>[[(1.643243e-22-3.1472818e-23j), (-1.0013719e-...</td>\n      <td>//001121a05/L1/SFTs</td>\n      <td>001121a05.hdf5</td>\n      <td>360</td>\n    </tr>\n    <tr>\n      <th>3</th>\n      <td>[1238169614, 1238171414, 1238173214, 123817501...</td>\n      <td>//001121a05/L1/timestamps_GPS</td>\n      <td>001121a05.hdf5</td>\n      <td>4653</td>\n    </tr>\n    <tr>\n      <th>4</th>\n      <td>[53.50777777777778, 53.50833333333334, 53.5088...</td>\n      <td>//001121a05/frequency_Hz</td>\n      <td>001121a05.hdf5</td>\n      <td>360</td>\n    </tr>\n  </tbody>\n</table>\n</div>"
     },
     "execution_count": 5,
     "metadata": {},
     "output_type": "execute_result"
    }
   ],
   "source": [
    "# Get contents of first train file\n",
    "df = traverse_hdf5(train_folder + '\\\\' + train_files[0], train_files[0])\n",
    "\n",
    "# Get length of arrays within the data column\n",
    "df['data_length'] = df['data'].apply(lambda x: len(x))\n",
    "\n",
    "# Get first list of first cell in data column\n",
    "df"
   ]
  },
  {
   "cell_type": "code",
   "execution_count": 11,
   "id": "aa77b59c-9ad7-456e-aedc-2f089fdbc9ee",
   "metadata": {
    "pycharm": {
     "name": "#%%\n"
    }
   },
   "outputs": [
    {
     "name": "stderr",
     "output_type": "stream",
     "text": [
      "C:\\Users\\noudy\\DataSpellProjects\\Gravitational\\DS_venv\\lib\\site-packages\\numpy\\core\\_methods.py:48: ComplexWarning: Casting complex values to real discards the imaginary part\n",
      "  return umr_sum(a, axis, dtype, out, keepdims, initial, where)\n",
      "C:\\Users\\noudy\\DataSpellProjects\\Gravitational\\DS_venv\\lib\\site-packages\\pandas\\core\\nanops.py:873: RuntimeWarning: invalid value encountered in sqrt\n",
      "  result = np.sqrt(nanvar(values, axis=axis, skipna=skipna, ddof=ddof, mask=mask))\n",
      "C:\\Users\\noudy\\DataSpellProjects\\Gravitational\\DS_venv\\lib\\site-packages\\pandas\\core\\nanops.py:1163: ComplexWarning: Casting complex values to real discards the imaginary part\n",
      "  values = values.astype(\"f8\")\n",
      "C:\\Users\\noudy\\DataSpellProjects\\Gravitational\\DS_venv\\lib\\site-packages\\pandas\\core\\nanops.py:1250: ComplexWarning: Casting complex values to real discards the imaginary part\n",
      "  values = values.astype(\"f8\")\n"
     ]
    },
    {
     "data": {
      "text/plain": "                          1238170021                  1238171821  \\\n0        -2.017801e-24+1.706607e-22j -1.464584e-23+9.642138e-23j   \n1        -1.871139e-22+1.007350e-22j -1.510940e-22+9.367457e-24j   \n2        -1.901606e-22+1.526898e-22j  1.059649e-22+6.504072e-23j   \n3         9.034575e-24-9.360981e-23j  5.172909e-23-2.954975e-22j   \n4         3.884536e-23+9.743752e-23j  6.932494e-23+3.436815e-23j   \n...                              ...                         ...   \n359      -1.407118e-23-1.133035e-22j  2.308325e-23-5.763252e-23j   \naverage  -3.242841e-24+2.765646e-24j  8.342572e-24+7.603134e-25j   \nstd       2.338424e-23+0.000000e+00j N000000000000a000000000000N   \nskew      0.000000e+00+0.000000e+00j  0.000000e+00+0.000000e+00j   \nkurtosis  0.000000e+00+0.000000e+00j  0.000000e+00+0.000000e+00j   \n\n                          1238173621                  1238175421  \\\n0         1.391039e-23-4.392366e-23j  2.934738e-23-1.632859e-22j   \n1         5.019298e-23-5.209825e-23j -1.086745e-22+1.983568e-23j   \n2         1.296340e-22+5.387476e-23j -3.108431e-23+1.989968e-22j   \n3         1.097326e-23-8.117022e-23j  7.346526e-23-1.533208e-22j   \n4         4.751554e-23+3.152470e-24j -7.239878e-23-1.983319e-23j   \n...                              ...                         ...   \n359      -2.879641e-23-2.569706e-23j  3.730476e-23-7.881608e-23j   \naverage  -5.016152e-24+7.961558e-24j  5.215874e-24-7.018373e-25j   \nstd      N000000000000a000000000000N  2.741832e-23+0.000000e+00j   \nskew      0.000000e+00+0.000000e+00j  0.000000e+00+0.000000e+00j   \nkurtosis  0.000000e+00+0.000000e+00j  0.000000e+00+0.000000e+00j   \n\n                          1238177221                  1238179021  \\\n0        -7.205563e-23-1.428877e-22j  1.509542e-22-7.776660e-23j   \n1         2.467436e-23+2.779556e-23j  9.644749e-23+6.473138e-24j   \n2         2.818042e-23-8.323839e-23j -1.607108e-23-1.110477e-23j   \n3         8.429252e-23-6.141384e-23j -1.269745e-22+1.190623e-23j   \n4         1.146661e-22+5.217264e-23j  6.342020e-23-1.503384e-22j   \n...                              ...                         ...   \n359       3.248028e-23+7.633730e-23j -8.439254e-23+8.439179e-23j   \naverage  -5.592722e-24+9.246273e-24j  4.394467e-24+3.809551e-25j   \nstd       3.204465e-23+0.000000e+00j  2.467303e-23+0.000000e+00j   \nskew      0.000000e+00+0.000000e+00j  0.000000e+00+0.000000e+00j   \nkurtosis  0.000000e+00+0.000000e+00j  0.000000e+00+0.000000e+00j   \n\n                          1238180821                  1238182621  \\\n0         1.195127e-22+1.074785e-22j -5.966815e-23+3.680174e-23j   \n1         2.512335e-22-4.792071e-23j -1.068056e-22+7.975918e-23j   \n2        -1.335912e-22+1.271735e-22j -1.039643e-22-1.190458e-22j   \n3        -3.062227e-23-4.818979e-23j -1.871258e-22-6.194506e-23j   \n4         4.285598e-23+1.049940e-22j -6.285604e-23-1.200224e-22j   \n...                              ...                         ...   \n359      -1.340824e-22-1.744120e-23j  1.030267e-22-9.324072e-24j   \naverage   6.506052e-24+8.045235e-24j  6.217769e-24+9.650681e-25j   \nstd       4.173821e-23+0.000000e+00j N000000000000a000000000000N   \nskew      0.000000e+00+0.000000e+00j  0.000000e+00+0.000000e+00j   \nkurtosis  0.000000e+00+0.000000e+00j  0.000000e+00+0.000000e+00j   \n\n                          1238184421                  1238186221  ...  \\\n0         2.665954e-24+8.128846e-23j  1.612900e-22+5.822668e-23j  ...   \n1         2.103226e-22+1.184502e-22j -4.295231e-23-1.334193e-22j  ...   \n2        -3.244993e-22-4.978333e-23j -5.256758e-23-3.404730e-23j  ...   \n3        -4.915285e-23+2.990681e-24j -8.661373e-24+6.903788e-23j  ...   \n4         4.498359e-23-1.720343e-23j  9.865346e-24-1.102503e-22j  ...   \n...                              ...                         ...  ...   \n359      -5.184786e-23-8.024168e-23j -1.247131e-23-1.352136e-22j  ...   \naverage   4.318668e-25+8.084194e-24j  3.543292e-25+4.572641e-24j  ...   \nstd       4.021774e-23+0.000000e+00j N000000000000a000000000000N  ...   \nskew      0.000000e+00+0.000000e+00j  0.000000e+00+0.000000e+00j  ...   \nkurtosis  0.000000e+00+0.000000e+00j  0.000000e+00+0.000000e+00j  ...   \n\n                          1248539639                  1248541439  \\\n0         3.082725e-22-3.613544e-23j  1.205249e-22+9.118960e-23j   \n1        -9.865622e-23+9.955658e-24j -1.077493e-22-3.276680e-23j   \n2        -7.674154e-23+1.223068e-22j -1.358693e-22+3.920475e-23j   \n3        -6.427304e-23-9.979299e-23j  1.491164e-23+4.381242e-23j   \n4        -1.720122e-22-1.277606e-22j  9.099982e-23+1.089591e-22j   \n...                              ...                         ...   \n359      -1.806964e-22+3.261813e-23j  8.000130e-24+1.289507e-22j   \naverage   8.692746e-24-4.267887e-24j  2.742198e-24+6.172858e-24j   \nstd       8.884183e-24+0.000000e+00j N000000000000a000000000000N   \nskew      0.000000e+00+0.000000e+00j  0.000000e+00+0.000000e+00j   \nkurtosis  0.000000e+00+0.000000e+00j  0.000000e+00+0.000000e+00j   \n\n                          1248543239                  1248545039  \\\n0         2.861275e-23+7.403217e-23j -2.749051e-23-1.968903e-22j   \n1         4.444153e-23-1.241720e-23j  2.974329e-23+4.581187e-23j   \n2        -1.100504e-23+1.978281e-22j -4.468216e-24+4.729299e-23j   \n3         2.800941e-23-1.055062e-22j -9.645621e-23-9.717640e-23j   \n4         1.129112e-22+8.876515e-23j  3.823606e-23-1.955166e-22j   \n...                              ...                         ...   \n359       1.561291e-22+1.160848e-22j  3.044505e-23+1.527895e-22j   \naverage  -1.431908e-24-4.197119e-24j -2.330546e-24-8.104580e-24j   \nstd      N000000000000a000000000000N N000000000000a000000000000N   \nskew      0.000000e+00+0.000000e+00j  0.000000e+00+0.000000e+00j   \nkurtosis  0.000000e+00+0.000000e+00j  0.000000e+00+0.000000e+00j   \n\n                          1248546839                  1248548639  \\\n0        -3.948799e-23-2.754519e-23j -1.176302e-22-1.099499e-22j   \n1        -2.172054e-22-3.942463e-23j  4.186732e-23+4.143750e-23j   \n2        -1.707596e-23-1.994347e-22j  6.213242e-23+3.120494e-24j   \n3        -1.583596e-22+2.798871e-23j -1.874950e-22+1.136141e-22j   \n4        -3.148861e-22-4.656572e-23j -2.145164e-22+1.032763e-22j   \n...                              ...                         ...   \n359       1.793383e-23+1.616275e-22j -1.846653e-23-1.253062e-22j   \naverage   7.310723e-24+1.113011e-24j -1.908894e-24-7.829565e-24j   \nstd      N000000000000a000000000000N  1.321395e-23+0.000000e+00j   \nskew      0.000000e+00+0.000000e+00j  0.000000e+00+0.000000e+00j   \nkurtosis  0.000000e+00+0.000000e+00j  0.000000e+00+0.000000e+00j   \n\n                          1248550439                  1248552239  \\\n0        -3.110633e-23+7.841416e-23j -1.717718e-23+1.283729e-22j   \n1        -2.277401e-23-1.501246e-22j -5.972212e-23-1.090459e-22j   \n2         1.203371e-22-2.482423e-23j -1.532590e-22-5.962312e-23j   \n3        -2.243608e-22+1.776946e-23j -1.161252e-22+9.824507e-23j   \n4         1.221336e-22-7.266460e-23j -2.423047e-22-2.126750e-22j   \n...                              ...                         ...   \n359       2.145384e-23-1.410290e-22j -5.617747e-23+5.003053e-24j   \naverage  -6.024352e-24+9.944845e-25j  6.035712e-24+6.694604e-24j   \nstd       1.995133e-23+0.000000e+00j  2.579770e-23+0.000000e+00j   \nskew      0.000000e+00+0.000000e+00j  0.000000e+00+0.000000e+00j   \nkurtosis  0.000000e+00+0.000000e+00j  0.000000e+00+0.000000e+00j   \n\n                          1248554039                  1248555839  \n0         1.389211e-22-8.297767e-23j  7.272958e-23+4.455958e-23j  \n1         8.073840e-23+1.614888e-22j  1.476014e-22+1.079513e-22j  \n2        -6.094774e-23+2.810304e-23j -3.277597e-23-6.076202e-23j  \n3         1.351628e-22+1.285419e-22j -1.860812e-22-1.007592e-23j  \n4         1.120399e-22-7.913659e-23j -2.396455e-23+5.139624e-23j  \n...                              ...                         ...  \n359       5.271244e-23-9.958076e-24j -6.401009e-23+6.848476e-23j  \naverage  -7.782289e-26+3.859746e-24j  7.661778e-25+1.025592e-23j  \nstd       3.099480e-23+0.000000e+00j N000000000000a000000000000N  \nskew      0.000000e+00+0.000000e+00j  0.000000e+00+0.000000e+00j  \nkurtosis  0.000000e+00+0.000000e+00j  0.000000e+00+0.000000e+00j  \n\n[364 rows x 4612 columns]",
      "text/html": "<div>\n<style scoped>\n    .dataframe tbody tr th:only-of-type {\n        vertical-align: middle;\n    }\n\n    .dataframe tbody tr th {\n        vertical-align: top;\n    }\n\n    .dataframe thead th {\n        text-align: right;\n    }\n</style>\n<table border=\"1\" class=\"dataframe\">\n  <thead>\n    <tr style=\"text-align: right;\">\n      <th></th>\n      <th>1238170021</th>\n      <th>1238171821</th>\n      <th>1238173621</th>\n      <th>1238175421</th>\n      <th>1238177221</th>\n      <th>1238179021</th>\n      <th>1238180821</th>\n      <th>1238182621</th>\n      <th>1238184421</th>\n      <th>1238186221</th>\n      <th>...</th>\n      <th>1248539639</th>\n      <th>1248541439</th>\n      <th>1248543239</th>\n      <th>1248545039</th>\n      <th>1248546839</th>\n      <th>1248548639</th>\n      <th>1248550439</th>\n      <th>1248552239</th>\n      <th>1248554039</th>\n      <th>1248555839</th>\n    </tr>\n  </thead>\n  <tbody>\n    <tr>\n      <th>0</th>\n      <td>-2.017801e-24+1.706607e-22j</td>\n      <td>-1.464584e-23+9.642138e-23j</td>\n      <td>1.391039e-23-4.392366e-23j</td>\n      <td>2.934738e-23-1.632859e-22j</td>\n      <td>-7.205563e-23-1.428877e-22j</td>\n      <td>1.509542e-22-7.776660e-23j</td>\n      <td>1.195127e-22+1.074785e-22j</td>\n      <td>-5.966815e-23+3.680174e-23j</td>\n      <td>2.665954e-24+8.128846e-23j</td>\n      <td>1.612900e-22+5.822668e-23j</td>\n      <td>...</td>\n      <td>3.082725e-22-3.613544e-23j</td>\n      <td>1.205249e-22+9.118960e-23j</td>\n      <td>2.861275e-23+7.403217e-23j</td>\n      <td>-2.749051e-23-1.968903e-22j</td>\n      <td>-3.948799e-23-2.754519e-23j</td>\n      <td>-1.176302e-22-1.099499e-22j</td>\n      <td>-3.110633e-23+7.841416e-23j</td>\n      <td>-1.717718e-23+1.283729e-22j</td>\n      <td>1.389211e-22-8.297767e-23j</td>\n      <td>7.272958e-23+4.455958e-23j</td>\n    </tr>\n    <tr>\n      <th>1</th>\n      <td>-1.871139e-22+1.007350e-22j</td>\n      <td>-1.510940e-22+9.367457e-24j</td>\n      <td>5.019298e-23-5.209825e-23j</td>\n      <td>-1.086745e-22+1.983568e-23j</td>\n      <td>2.467436e-23+2.779556e-23j</td>\n      <td>9.644749e-23+6.473138e-24j</td>\n      <td>2.512335e-22-4.792071e-23j</td>\n      <td>-1.068056e-22+7.975918e-23j</td>\n      <td>2.103226e-22+1.184502e-22j</td>\n      <td>-4.295231e-23-1.334193e-22j</td>\n      <td>...</td>\n      <td>-9.865622e-23+9.955658e-24j</td>\n      <td>-1.077493e-22-3.276680e-23j</td>\n      <td>4.444153e-23-1.241720e-23j</td>\n      <td>2.974329e-23+4.581187e-23j</td>\n      <td>-2.172054e-22-3.942463e-23j</td>\n      <td>4.186732e-23+4.143750e-23j</td>\n      <td>-2.277401e-23-1.501246e-22j</td>\n      <td>-5.972212e-23-1.090459e-22j</td>\n      <td>8.073840e-23+1.614888e-22j</td>\n      <td>1.476014e-22+1.079513e-22j</td>\n    </tr>\n    <tr>\n      <th>2</th>\n      <td>-1.901606e-22+1.526898e-22j</td>\n      <td>1.059649e-22+6.504072e-23j</td>\n      <td>1.296340e-22+5.387476e-23j</td>\n      <td>-3.108431e-23+1.989968e-22j</td>\n      <td>2.818042e-23-8.323839e-23j</td>\n      <td>-1.607108e-23-1.110477e-23j</td>\n      <td>-1.335912e-22+1.271735e-22j</td>\n      <td>-1.039643e-22-1.190458e-22j</td>\n      <td>-3.244993e-22-4.978333e-23j</td>\n      <td>-5.256758e-23-3.404730e-23j</td>\n      <td>...</td>\n      <td>-7.674154e-23+1.223068e-22j</td>\n      <td>-1.358693e-22+3.920475e-23j</td>\n      <td>-1.100504e-23+1.978281e-22j</td>\n      <td>-4.468216e-24+4.729299e-23j</td>\n      <td>-1.707596e-23-1.994347e-22j</td>\n      <td>6.213242e-23+3.120494e-24j</td>\n      <td>1.203371e-22-2.482423e-23j</td>\n      <td>-1.532590e-22-5.962312e-23j</td>\n      <td>-6.094774e-23+2.810304e-23j</td>\n      <td>-3.277597e-23-6.076202e-23j</td>\n    </tr>\n    <tr>\n      <th>3</th>\n      <td>9.034575e-24-9.360981e-23j</td>\n      <td>5.172909e-23-2.954975e-22j</td>\n      <td>1.097326e-23-8.117022e-23j</td>\n      <td>7.346526e-23-1.533208e-22j</td>\n      <td>8.429252e-23-6.141384e-23j</td>\n      <td>-1.269745e-22+1.190623e-23j</td>\n      <td>-3.062227e-23-4.818979e-23j</td>\n      <td>-1.871258e-22-6.194506e-23j</td>\n      <td>-4.915285e-23+2.990681e-24j</td>\n      <td>-8.661373e-24+6.903788e-23j</td>\n      <td>...</td>\n      <td>-6.427304e-23-9.979299e-23j</td>\n      <td>1.491164e-23+4.381242e-23j</td>\n      <td>2.800941e-23-1.055062e-22j</td>\n      <td>-9.645621e-23-9.717640e-23j</td>\n      <td>-1.583596e-22+2.798871e-23j</td>\n      <td>-1.874950e-22+1.136141e-22j</td>\n      <td>-2.243608e-22+1.776946e-23j</td>\n      <td>-1.161252e-22+9.824507e-23j</td>\n      <td>1.351628e-22+1.285419e-22j</td>\n      <td>-1.860812e-22-1.007592e-23j</td>\n    </tr>\n    <tr>\n      <th>4</th>\n      <td>3.884536e-23+9.743752e-23j</td>\n      <td>6.932494e-23+3.436815e-23j</td>\n      <td>4.751554e-23+3.152470e-24j</td>\n      <td>-7.239878e-23-1.983319e-23j</td>\n      <td>1.146661e-22+5.217264e-23j</td>\n      <td>6.342020e-23-1.503384e-22j</td>\n      <td>4.285598e-23+1.049940e-22j</td>\n      <td>-6.285604e-23-1.200224e-22j</td>\n      <td>4.498359e-23-1.720343e-23j</td>\n      <td>9.865346e-24-1.102503e-22j</td>\n      <td>...</td>\n      <td>-1.720122e-22-1.277606e-22j</td>\n      <td>9.099982e-23+1.089591e-22j</td>\n      <td>1.129112e-22+8.876515e-23j</td>\n      <td>3.823606e-23-1.955166e-22j</td>\n      <td>-3.148861e-22-4.656572e-23j</td>\n      <td>-2.145164e-22+1.032763e-22j</td>\n      <td>1.221336e-22-7.266460e-23j</td>\n      <td>-2.423047e-22-2.126750e-22j</td>\n      <td>1.120399e-22-7.913659e-23j</td>\n      <td>-2.396455e-23+5.139624e-23j</td>\n    </tr>\n    <tr>\n      <th>...</th>\n      <td>...</td>\n      <td>...</td>\n      <td>...</td>\n      <td>...</td>\n      <td>...</td>\n      <td>...</td>\n      <td>...</td>\n      <td>...</td>\n      <td>...</td>\n      <td>...</td>\n      <td>...</td>\n      <td>...</td>\n      <td>...</td>\n      <td>...</td>\n      <td>...</td>\n      <td>...</td>\n      <td>...</td>\n      <td>...</td>\n      <td>...</td>\n      <td>...</td>\n      <td>...</td>\n    </tr>\n    <tr>\n      <th>359</th>\n      <td>-1.407118e-23-1.133035e-22j</td>\n      <td>2.308325e-23-5.763252e-23j</td>\n      <td>-2.879641e-23-2.569706e-23j</td>\n      <td>3.730476e-23-7.881608e-23j</td>\n      <td>3.248028e-23+7.633730e-23j</td>\n      <td>-8.439254e-23+8.439179e-23j</td>\n      <td>-1.340824e-22-1.744120e-23j</td>\n      <td>1.030267e-22-9.324072e-24j</td>\n      <td>-5.184786e-23-8.024168e-23j</td>\n      <td>-1.247131e-23-1.352136e-22j</td>\n      <td>...</td>\n      <td>-1.806964e-22+3.261813e-23j</td>\n      <td>8.000130e-24+1.289507e-22j</td>\n      <td>1.561291e-22+1.160848e-22j</td>\n      <td>3.044505e-23+1.527895e-22j</td>\n      <td>1.793383e-23+1.616275e-22j</td>\n      <td>-1.846653e-23-1.253062e-22j</td>\n      <td>2.145384e-23-1.410290e-22j</td>\n      <td>-5.617747e-23+5.003053e-24j</td>\n      <td>5.271244e-23-9.958076e-24j</td>\n      <td>-6.401009e-23+6.848476e-23j</td>\n    </tr>\n    <tr>\n      <th>average</th>\n      <td>-3.242841e-24+2.765646e-24j</td>\n      <td>8.342572e-24+7.603134e-25j</td>\n      <td>-5.016152e-24+7.961558e-24j</td>\n      <td>5.215874e-24-7.018373e-25j</td>\n      <td>-5.592722e-24+9.246273e-24j</td>\n      <td>4.394467e-24+3.809551e-25j</td>\n      <td>6.506052e-24+8.045235e-24j</td>\n      <td>6.217769e-24+9.650681e-25j</td>\n      <td>4.318668e-25+8.084194e-24j</td>\n      <td>3.543292e-25+4.572641e-24j</td>\n      <td>...</td>\n      <td>8.692746e-24-4.267887e-24j</td>\n      <td>2.742198e-24+6.172858e-24j</td>\n      <td>-1.431908e-24-4.197119e-24j</td>\n      <td>-2.330546e-24-8.104580e-24j</td>\n      <td>7.310723e-24+1.113011e-24j</td>\n      <td>-1.908894e-24-7.829565e-24j</td>\n      <td>-6.024352e-24+9.944845e-25j</td>\n      <td>6.035712e-24+6.694604e-24j</td>\n      <td>-7.782289e-26+3.859746e-24j</td>\n      <td>7.661778e-25+1.025592e-23j</td>\n    </tr>\n    <tr>\n      <th>std</th>\n      <td>2.338424e-23+0.000000e+00j</td>\n      <td>N000000000000a000000000000N</td>\n      <td>N000000000000a000000000000N</td>\n      <td>2.741832e-23+0.000000e+00j</td>\n      <td>3.204465e-23+0.000000e+00j</td>\n      <td>2.467303e-23+0.000000e+00j</td>\n      <td>4.173821e-23+0.000000e+00j</td>\n      <td>N000000000000a000000000000N</td>\n      <td>4.021774e-23+0.000000e+00j</td>\n      <td>N000000000000a000000000000N</td>\n      <td>...</td>\n      <td>8.884183e-24+0.000000e+00j</td>\n      <td>N000000000000a000000000000N</td>\n      <td>N000000000000a000000000000N</td>\n      <td>N000000000000a000000000000N</td>\n      <td>N000000000000a000000000000N</td>\n      <td>1.321395e-23+0.000000e+00j</td>\n      <td>1.995133e-23+0.000000e+00j</td>\n      <td>2.579770e-23+0.000000e+00j</td>\n      <td>3.099480e-23+0.000000e+00j</td>\n      <td>N000000000000a000000000000N</td>\n    </tr>\n    <tr>\n      <th>skew</th>\n      <td>0.000000e+00+0.000000e+00j</td>\n      <td>0.000000e+00+0.000000e+00j</td>\n      <td>0.000000e+00+0.000000e+00j</td>\n      <td>0.000000e+00+0.000000e+00j</td>\n      <td>0.000000e+00+0.000000e+00j</td>\n      <td>0.000000e+00+0.000000e+00j</td>\n      <td>0.000000e+00+0.000000e+00j</td>\n      <td>0.000000e+00+0.000000e+00j</td>\n      <td>0.000000e+00+0.000000e+00j</td>\n      <td>0.000000e+00+0.000000e+00j</td>\n      <td>...</td>\n      <td>0.000000e+00+0.000000e+00j</td>\n      <td>0.000000e+00+0.000000e+00j</td>\n      <td>0.000000e+00+0.000000e+00j</td>\n      <td>0.000000e+00+0.000000e+00j</td>\n      <td>0.000000e+00+0.000000e+00j</td>\n      <td>0.000000e+00+0.000000e+00j</td>\n      <td>0.000000e+00+0.000000e+00j</td>\n      <td>0.000000e+00+0.000000e+00j</td>\n      <td>0.000000e+00+0.000000e+00j</td>\n      <td>0.000000e+00+0.000000e+00j</td>\n    </tr>\n    <tr>\n      <th>kurtosis</th>\n      <td>0.000000e+00+0.000000e+00j</td>\n      <td>0.000000e+00+0.000000e+00j</td>\n      <td>0.000000e+00+0.000000e+00j</td>\n      <td>0.000000e+00+0.000000e+00j</td>\n      <td>0.000000e+00+0.000000e+00j</td>\n      <td>0.000000e+00+0.000000e+00j</td>\n      <td>0.000000e+00+0.000000e+00j</td>\n      <td>0.000000e+00+0.000000e+00j</td>\n      <td>0.000000e+00+0.000000e+00j</td>\n      <td>0.000000e+00+0.000000e+00j</td>\n      <td>...</td>\n      <td>0.000000e+00+0.000000e+00j</td>\n      <td>0.000000e+00+0.000000e+00j</td>\n      <td>0.000000e+00+0.000000e+00j</td>\n      <td>0.000000e+00+0.000000e+00j</td>\n      <td>0.000000e+00+0.000000e+00j</td>\n      <td>0.000000e+00+0.000000e+00j</td>\n      <td>0.000000e+00+0.000000e+00j</td>\n      <td>0.000000e+00+0.000000e+00j</td>\n      <td>0.000000e+00+0.000000e+00j</td>\n      <td>0.000000e+00+0.000000e+00j</td>\n    </tr>\n  </tbody>\n</table>\n<p>364 rows × 4612 columns</p>\n</div>"
     },
     "execution_count": 11,
     "metadata": {},
     "output_type": "execute_result"
    }
   ],
   "source": [
    "# Create df, with columns representing timestamps from second data cell, and rows representing the first data cell\n",
    "df2 = pd.DataFrame(df['data'][0])\n",
    "\n",
    "# Column names are the timestamps\n",
    "df2.columns = df['data'][1]\n",
    "\n",
    "# Add average of column values as a new row\n",
    "df2.loc['average'] = df2.mean()\n",
    "\n",
    "# Add standard deviation of column values as a new row\n",
    "df2.loc['std'] = df2.std()\n",
    "\n",
    "# Add skewness of column values as a new row\n",
    "df2.loc['skew'] = df2.skew()\n",
    "\n",
    "# Add kurtosis of column values as a new row\n",
    "df2.loc['kurtosis'] = df2.kurtosis()\n",
    "\n",
    "df2"
   ]
  },
  {
   "cell_type": "code",
   "execution_count": null,
   "outputs": [],
   "source": [
    "# Show a trend line for the average row\n"
   ],
   "metadata": {
    "collapsed": false,
    "pycharm": {
     "name": "#%%\n"
    }
   }
  },
  {
   "cell_type": "code",
   "execution_count": 19,
   "id": "8f1f9cd5-4cf1-4496-b911-560a4bfa42f8",
   "metadata": {
    "pycharm": {
     "name": "#%%\n"
    }
   },
   "outputs": [
    {
     "name": "stderr",
     "output_type": "stream",
     "text": [
      "C:\\Users\\noudy\\DataSpellProjects\\Gravitational\\DS_venv\\lib\\site-packages\\ipykernel_launcher.py:3: ComplexWarning: Casting complex values to real discards the imaginary part\n",
      "  This is separate from the ipykernel package so we can avoid doing imports until\n"
     ]
    },
    {
     "data": {
      "text/plain": "                Id   Avg H1-SFTs                      Avg L1-SFTs  \\\n0   001121a05.hdf5 -2.787475e-26   (-7.563195e-26+1.6791384e-26j)   \n0   004f23b2d.hdf5  5.795783e-26    (-6.577777e-26-9.961035e-27j)   \n0   00a6db666.hdf5  1.779411e-25   (3.6714905e-26+1.6741528e-26j)   \n0   00f36a6ac.hdf5  2.703786e-26  (-9.8693624e-26-3.6599078e-26j)   \n0   010a387db.hdf5 -7.878897e-26    (6.442983e-26-2.6589115e-26j)   \n..             ...           ...                              ...   \n0   fe38dbe64.hdf5  1.986287e-27   (2.9517718e-26-4.4535038e-26j)   \n0   feafd0d16.hdf5 -3.973601e-26   (5.1489706e-26-6.1739946e-26j)   \n0   feeca844e.hdf5 -3.382550e-26   (4.5678313e-27-6.1452293e-28j)   \n0   ff5ad023f.hdf5  5.578002e-26  (-6.8264504e-26+4.6519235e-26j)   \n0   ffa1d19c7.hdf5  1.310730e-25  (-1.7246744e-26-3.2949928e-26j)   \n\n   Avg Frequency_Hz  \n0           53.6075  \n0        329.119722  \n0        213.288056  \n0        453.359167  \n0        231.983611  \n..              ...  \n0        373.019722  \n0        481.319722  \n0        369.324722  \n0        293.868056  \n0        234.475833  \n\n[603 rows x 4 columns]",
      "text/html": "<div>\n<style scoped>\n    .dataframe tbody tr th:only-of-type {\n        vertical-align: middle;\n    }\n\n    .dataframe tbody tr th {\n        vertical-align: top;\n    }\n\n    .dataframe thead th {\n        text-align: right;\n    }\n</style>\n<table border=\"1\" class=\"dataframe\">\n  <thead>\n    <tr style=\"text-align: right;\">\n      <th></th>\n      <th>Id</th>\n      <th>Avg H1-SFTs</th>\n      <th>Avg L1-SFTs</th>\n      <th>Avg Frequency_Hz</th>\n    </tr>\n  </thead>\n  <tbody>\n    <tr>\n      <th>0</th>\n      <td>001121a05.hdf5</td>\n      <td>-2.787475e-26</td>\n      <td>(-7.563195e-26+1.6791384e-26j)</td>\n      <td>53.6075</td>\n    </tr>\n    <tr>\n      <th>0</th>\n      <td>004f23b2d.hdf5</td>\n      <td>5.795783e-26</td>\n      <td>(-6.577777e-26-9.961035e-27j)</td>\n      <td>329.119722</td>\n    </tr>\n    <tr>\n      <th>0</th>\n      <td>00a6db666.hdf5</td>\n      <td>1.779411e-25</td>\n      <td>(3.6714905e-26+1.6741528e-26j)</td>\n      <td>213.288056</td>\n    </tr>\n    <tr>\n      <th>0</th>\n      <td>00f36a6ac.hdf5</td>\n      <td>2.703786e-26</td>\n      <td>(-9.8693624e-26-3.6599078e-26j)</td>\n      <td>453.359167</td>\n    </tr>\n    <tr>\n      <th>0</th>\n      <td>010a387db.hdf5</td>\n      <td>-7.878897e-26</td>\n      <td>(6.442983e-26-2.6589115e-26j)</td>\n      <td>231.983611</td>\n    </tr>\n    <tr>\n      <th>...</th>\n      <td>...</td>\n      <td>...</td>\n      <td>...</td>\n      <td>...</td>\n    </tr>\n    <tr>\n      <th>0</th>\n      <td>fe38dbe64.hdf5</td>\n      <td>1.986287e-27</td>\n      <td>(2.9517718e-26-4.4535038e-26j)</td>\n      <td>373.019722</td>\n    </tr>\n    <tr>\n      <th>0</th>\n      <td>feafd0d16.hdf5</td>\n      <td>-3.973601e-26</td>\n      <td>(5.1489706e-26-6.1739946e-26j)</td>\n      <td>481.319722</td>\n    </tr>\n    <tr>\n      <th>0</th>\n      <td>feeca844e.hdf5</td>\n      <td>-3.382550e-26</td>\n      <td>(4.5678313e-27-6.1452293e-28j)</td>\n      <td>369.324722</td>\n    </tr>\n    <tr>\n      <th>0</th>\n      <td>ff5ad023f.hdf5</td>\n      <td>5.578002e-26</td>\n      <td>(-6.8264504e-26+4.6519235e-26j)</td>\n      <td>293.868056</td>\n    </tr>\n    <tr>\n      <th>0</th>\n      <td>ffa1d19c7.hdf5</td>\n      <td>1.310730e-25</td>\n      <td>(-1.7246744e-26-3.2949928e-26j)</td>\n      <td>234.475833</td>\n    </tr>\n  </tbody>\n</table>\n<p>603 rows × 4 columns</p>\n</div>"
     },
     "execution_count": 19,
     "metadata": {},
     "output_type": "execute_result"
    }
   ],
   "source": [
    "# Function to convert scientific notation to float\n",
    "def convert_to_float(x):\n",
    "    return float(x)\n",
    "\n",
    "# Convert the values in the \"Avg H1-SFTs\" column to float\n",
    "complete_df_train['Avg H1-SFTs'] = complete_df_train['Avg H1-SFTs'].apply(convert_to_float)\n",
    "\n",
    "complete_df_train"
   ]
  },
  {
   "cell_type": "code",
   "execution_count": 20,
   "id": "c87cb69e-bf3d-4355-9e82-b0c28b3241d2",
   "metadata": {
    "pycharm": {
     "name": "#%%\n"
    }
   },
   "outputs": [
    {
     "name": "stderr",
     "output_type": "stream",
     "text": [
      "C:\\Users\\noudy\\DataSpellProjects\\Gravitational\\DS_venv\\lib\\site-packages\\ipykernel_launcher.py:3: ComplexWarning: Casting complex values to real discards the imaginary part\n",
      "  This is separate from the ipykernel package so we can avoid doing imports until\n"
     ]
    },
    {
     "data": {
      "text/plain": "                Id   Avg H1-SFTs   Avg L1-SFTs Avg Frequency_Hz\n0   001121a05.hdf5 -2.787475e-26 -7.563195e-26          53.6075\n0   004f23b2d.hdf5  5.795783e-26 -6.577777e-26       329.119722\n0   00a6db666.hdf5  1.779411e-25  3.671491e-26       213.288056\n0   00f36a6ac.hdf5  2.703786e-26 -9.869362e-26       453.359167\n0   010a387db.hdf5 -7.878897e-26  6.442983e-26       231.983611\n..             ...           ...           ...              ...\n0   fe38dbe64.hdf5  1.986287e-27  2.951772e-26       373.019722\n0   feafd0d16.hdf5 -3.973601e-26  5.148971e-26       481.319722\n0   feeca844e.hdf5 -3.382550e-26  4.567831e-27       369.324722\n0   ff5ad023f.hdf5  5.578002e-26 -6.826450e-26       293.868056\n0   ffa1d19c7.hdf5  1.310730e-25 -1.724674e-26       234.475833\n\n[603 rows x 4 columns]",
      "text/html": "<div>\n<style scoped>\n    .dataframe tbody tr th:only-of-type {\n        vertical-align: middle;\n    }\n\n    .dataframe tbody tr th {\n        vertical-align: top;\n    }\n\n    .dataframe thead th {\n        text-align: right;\n    }\n</style>\n<table border=\"1\" class=\"dataframe\">\n  <thead>\n    <tr style=\"text-align: right;\">\n      <th></th>\n      <th>Id</th>\n      <th>Avg H1-SFTs</th>\n      <th>Avg L1-SFTs</th>\n      <th>Avg Frequency_Hz</th>\n    </tr>\n  </thead>\n  <tbody>\n    <tr>\n      <th>0</th>\n      <td>001121a05.hdf5</td>\n      <td>-2.787475e-26</td>\n      <td>-7.563195e-26</td>\n      <td>53.6075</td>\n    </tr>\n    <tr>\n      <th>0</th>\n      <td>004f23b2d.hdf5</td>\n      <td>5.795783e-26</td>\n      <td>-6.577777e-26</td>\n      <td>329.119722</td>\n    </tr>\n    <tr>\n      <th>0</th>\n      <td>00a6db666.hdf5</td>\n      <td>1.779411e-25</td>\n      <td>3.671491e-26</td>\n      <td>213.288056</td>\n    </tr>\n    <tr>\n      <th>0</th>\n      <td>00f36a6ac.hdf5</td>\n      <td>2.703786e-26</td>\n      <td>-9.869362e-26</td>\n      <td>453.359167</td>\n    </tr>\n    <tr>\n      <th>0</th>\n      <td>010a387db.hdf5</td>\n      <td>-7.878897e-26</td>\n      <td>6.442983e-26</td>\n      <td>231.983611</td>\n    </tr>\n    <tr>\n      <th>...</th>\n      <td>...</td>\n      <td>...</td>\n      <td>...</td>\n      <td>...</td>\n    </tr>\n    <tr>\n      <th>0</th>\n      <td>fe38dbe64.hdf5</td>\n      <td>1.986287e-27</td>\n      <td>2.951772e-26</td>\n      <td>373.019722</td>\n    </tr>\n    <tr>\n      <th>0</th>\n      <td>feafd0d16.hdf5</td>\n      <td>-3.973601e-26</td>\n      <td>5.148971e-26</td>\n      <td>481.319722</td>\n    </tr>\n    <tr>\n      <th>0</th>\n      <td>feeca844e.hdf5</td>\n      <td>-3.382550e-26</td>\n      <td>4.567831e-27</td>\n      <td>369.324722</td>\n    </tr>\n    <tr>\n      <th>0</th>\n      <td>ff5ad023f.hdf5</td>\n      <td>5.578002e-26</td>\n      <td>-6.826450e-26</td>\n      <td>293.868056</td>\n    </tr>\n    <tr>\n      <th>0</th>\n      <td>ffa1d19c7.hdf5</td>\n      <td>1.310730e-25</td>\n      <td>-1.724674e-26</td>\n      <td>234.475833</td>\n    </tr>\n  </tbody>\n</table>\n<p>603 rows × 4 columns</p>\n</div>"
     },
     "execution_count": 20,
     "metadata": {},
     "output_type": "execute_result"
    }
   ],
   "source": [
    "# Convert the values in the \"Avg L1-SFTs\" column to float\n",
    "complete_df_train['Avg L1-SFTs'] = complete_df_train['Avg L1-SFTs'].apply(convert_to_float)\n",
    "\n",
    "complete_df_train"
   ]
  },
  {
   "cell_type": "code",
   "execution_count": 21,
   "id": "990f81c4-509d-497a-aefd-b023fac85f0d",
   "metadata": {
    "pycharm": {
     "name": "#%%\n"
    }
   },
   "outputs": [],
   "source": [
    "# Remove \".hdf5\" from the end of the Id column for each row\n",
    "complete_df_train['Id'] = complete_df_train['Id'].str[:-5]\n",
    "\n",
    "labels_df = pd.read_csv(train_labels)\n",
    "\n",
    "labels_df = labels_df.rename(columns={\"id\": \"Id\"})\n",
    "\n",
    "complete_df_train = pd.merge(complete_df_train, labels_df, on=\"Id\", how=\"inner\")"
   ]
  },
  {
   "cell_type": "code",
   "execution_count": 22,
   "id": "759bd109-d2de-4e88-90f9-8b07f579a5e5",
   "metadata": {
    "pycharm": {
     "name": "#%%\n"
    }
   },
   "outputs": [
    {
     "data": {
      "text/plain": "            Id   Avg H1-SFTs   Avg L1-SFTs Avg Frequency_Hz  target\n0    001121a05 -2.787475e-26 -7.563195e-26          53.6075       1\n1    004f23b2d  5.795783e-26 -6.577777e-26       329.119722       1\n2    00a6db666  1.779411e-25  3.671491e-26       213.288056       1\n3    00f36a6ac  2.703786e-26 -9.869362e-26       453.359167       1\n4    010a387db -7.878897e-26  6.442983e-26       231.983611       1\n..         ...           ...           ...              ...     ...\n598  fe38dbe64  1.986287e-27  2.951772e-26       373.019722       1\n599  feafd0d16 -3.973601e-26  5.148971e-26       481.319722       1\n600  feeca844e -3.382550e-26  4.567831e-27       369.324722       1\n601  ff5ad023f  5.578002e-26 -6.826450e-26       293.868056       1\n602  ffa1d19c7  1.310730e-25 -1.724674e-26       234.475833       1\n\n[603 rows x 5 columns]",
      "text/html": "<div>\n<style scoped>\n    .dataframe tbody tr th:only-of-type {\n        vertical-align: middle;\n    }\n\n    .dataframe tbody tr th {\n        vertical-align: top;\n    }\n\n    .dataframe thead th {\n        text-align: right;\n    }\n</style>\n<table border=\"1\" class=\"dataframe\">\n  <thead>\n    <tr style=\"text-align: right;\">\n      <th></th>\n      <th>Id</th>\n      <th>Avg H1-SFTs</th>\n      <th>Avg L1-SFTs</th>\n      <th>Avg Frequency_Hz</th>\n      <th>target</th>\n    </tr>\n  </thead>\n  <tbody>\n    <tr>\n      <th>0</th>\n      <td>001121a05</td>\n      <td>-2.787475e-26</td>\n      <td>-7.563195e-26</td>\n      <td>53.6075</td>\n      <td>1</td>\n    </tr>\n    <tr>\n      <th>1</th>\n      <td>004f23b2d</td>\n      <td>5.795783e-26</td>\n      <td>-6.577777e-26</td>\n      <td>329.119722</td>\n      <td>1</td>\n    </tr>\n    <tr>\n      <th>2</th>\n      <td>00a6db666</td>\n      <td>1.779411e-25</td>\n      <td>3.671491e-26</td>\n      <td>213.288056</td>\n      <td>1</td>\n    </tr>\n    <tr>\n      <th>3</th>\n      <td>00f36a6ac</td>\n      <td>2.703786e-26</td>\n      <td>-9.869362e-26</td>\n      <td>453.359167</td>\n      <td>1</td>\n    </tr>\n    <tr>\n      <th>4</th>\n      <td>010a387db</td>\n      <td>-7.878897e-26</td>\n      <td>6.442983e-26</td>\n      <td>231.983611</td>\n      <td>1</td>\n    </tr>\n    <tr>\n      <th>...</th>\n      <td>...</td>\n      <td>...</td>\n      <td>...</td>\n      <td>...</td>\n      <td>...</td>\n    </tr>\n    <tr>\n      <th>598</th>\n      <td>fe38dbe64</td>\n      <td>1.986287e-27</td>\n      <td>2.951772e-26</td>\n      <td>373.019722</td>\n      <td>1</td>\n    </tr>\n    <tr>\n      <th>599</th>\n      <td>feafd0d16</td>\n      <td>-3.973601e-26</td>\n      <td>5.148971e-26</td>\n      <td>481.319722</td>\n      <td>1</td>\n    </tr>\n    <tr>\n      <th>600</th>\n      <td>feeca844e</td>\n      <td>-3.382550e-26</td>\n      <td>4.567831e-27</td>\n      <td>369.324722</td>\n      <td>1</td>\n    </tr>\n    <tr>\n      <th>601</th>\n      <td>ff5ad023f</td>\n      <td>5.578002e-26</td>\n      <td>-6.826450e-26</td>\n      <td>293.868056</td>\n      <td>1</td>\n    </tr>\n    <tr>\n      <th>602</th>\n      <td>ffa1d19c7</td>\n      <td>1.310730e-25</td>\n      <td>-1.724674e-26</td>\n      <td>234.475833</td>\n      <td>1</td>\n    </tr>\n  </tbody>\n</table>\n<p>603 rows × 5 columns</p>\n</div>"
     },
     "execution_count": 22,
     "metadata": {},
     "output_type": "execute_result"
    }
   ],
   "source": [
    "complete_df_train"
   ]
  },
  {
   "cell_type": "code",
   "execution_count": 24,
   "id": "3727eee8-e165-40d0-9010-966ef9e4fc0f",
   "metadata": {
    "pycharm": {
     "name": "#%%\n"
    }
   },
   "outputs": [
    {
     "name": "stdout",
     "output_type": "stream",
     "text": [
      "Accuracy: 0.593103448275862\n"
     ]
    },
    {
     "data": {
      "text/plain": "array([ 1,  0,  1,  1,  1, -1,  0,  1,  1,  1,  1,  1,  0,  0,  1,  1,  0,\n        1,  0,  1,  1,  0,  1,  0,  1,  1,  1,  1,  1,  0,  0,  1,  1,  1,\n        0,  1,  1,  0,  1,  1,  1,  1,  1,  0,  0,  0,  1,  1,  1,  1,  1,\n        1,  1,  1,  0,  1,  1,  1,  0,  1,  1,  0,  1,  1,  1,  1,  0,  1,\n        1,  1,  0,  1,  1,  0,  0,  0,  1,  0,  1,  0,  1,  1,  1,  0,  0,\n        1,  0,  1,  1,  1,  0,  0,  1,  1,  0,  0,  1,  0,  0,  0,  1,  1,\n        1,  1,  1,  0,  1,  1,  1,  1,  1,  1, -1,  1,  1,  1,  1,  1,  0,\n        1,  1,  0,  1,  1,  1,  1,  1,  1,  1,  0,  1,  0,  1,  1,  0,  1,\n        1,  1,  0,  0,  0,  1,  1,  1,  1], dtype=int64)"
     },
     "execution_count": 24,
     "metadata": {},
     "output_type": "execute_result"
    }
   ],
   "source": [
    "from sklearn.model_selection import train_test_split\n",
    "from sklearn.neighbors import KNeighborsClassifier\n",
    "from sklearn.metrics import accuracy_score, precision_score, recall_score, f1_score\n",
    "\n",
    "\n",
    "# Separate the independent variables (predictor variables) from the dependent variable (response variable)\n",
    "X = complete_df_train[\"Avg Frequency_Hz\"].values.reshape(-1, 1)\n",
    "y = complete_df_train[\"target\"]\n",
    "\n",
    "# Split the data into training and test sets\n",
    "X_train, X_test, y_train, y_test = train_test_split(X, y, test_size=0.24, random_state=42)\n",
    "\n",
    "# Create an instance of the LogisticRegression model\n",
    "model = KNeighborsClassifier(n_neighbors = 5,metric = 'minkowski',p = 2)\n",
    "\n",
    "# Fit the model to the training data\n",
    "model.fit(X_train, y_train)\n",
    "\n",
    "# Make predictions on the test data\n",
    "y_pred = model.predict(X_test)\n",
    "\n",
    "# Calculate the accuracy, precision, recall, and F1 score\n",
    "accuracy = accuracy_score(y_test, y_pred)\n",
    "\n",
    "\n",
    "print(\"Accuracy:\", accuracy)\n",
    "y_pred\n"
   ]
  },
  {
   "cell_type": "code",
   "execution_count": 25,
   "id": "c6736f17-396e-4357-90c5-abf6feeca5a2",
   "metadata": {
    "pycharm": {
     "name": "#%%\n"
    }
   },
   "outputs": [
    {
     "name": "stdout",
     "output_type": "stream",
     "text": [
      "          Id   Avg H1-SFTs   Avg L1-SFTs Avg Frequency_Hz\n",
      "0  00054c878 -2.864107e-26  1.970546e-26       306.501944\n",
      "0  0007285a3 -2.269763e-26  1.093008e-25       126.448611\n",
      "0  00076c5a6 -3.871007e-26 -3.364705e-26       197.389167\n",
      "0  001349290  6.066534e-26  6.196433e-26        95.008056\n",
      "0  001a52e92  8.669040e-26  8.671533e-27       464.176944\n"
     ]
    },
    {
     "name": "stderr",
     "output_type": "stream",
     "text": [
      "C:\\Users\\noudy\\DataSpellProjects\\Gravitational\\DS_venv\\lib\\site-packages\\ipykernel_launcher.py:10: ComplexWarning: Casting complex values to real discards the imaginary part\n",
      "  # Remove the CWD from sys.path while we load stuff.\n"
     ]
    }
   ],
   "source": [
    "complete_df_test = pd.DataFrame(columns=[\"Id\", \"Avg H1-SFTs\", \"Avg L1-SFTs\", \"Avg Frequency_Hz\"])\n",
    "\n",
    "# Execute the traverse_hdf5 function on all files in the train folder and replace complete_df with complete_df + df\n",
    "for file in test_files:\n",
    "    df = traverse_hdf5(test_folder + '\\\\' + file, file)\n",
    "    complete_df_test = complete_df_test.append(df)\n",
    "    \n",
    "# Function to convert scientific notation to float\n",
    "def convert_to_float(x):\n",
    "    return float(x)\n",
    "\n",
    "\n",
    "# Remove \".hdf5\" from the end of the Id column for each row\n",
    "complete_df_test['Id'] = complete_df_test['Id'].str[:-5]\n",
    "\n",
    "# Convert the values in the \"Avg H1-SFTs\" column to float\n",
    "complete_df_test['Avg H1-SFTs'] = complete_df_test['Avg H1-SFTs'].apply(convert_to_float)\n",
    "\n",
    "# Convert the values in the \"Avg L1-SFTs\" column to float\n",
    "complete_df_test['Avg L1-SFTs'] = complete_df_test['Avg L1-SFTs'].apply(convert_to_float)\n",
    "\n",
    "\n",
    "print(complete_df_test.head())"
   ]
  },
  {
   "cell_type": "code",
   "execution_count": 13,
   "id": "e5a79a7e-2cd8-4b9b-980c-9e8b9935f936",
   "metadata": {
    "pycharm": {
     "name": "#%%\n"
    }
   },
   "outputs": [
    {
     "data": {
      "text/plain": [
       "array([1, 1, 1, ..., 0, 1, 0], dtype=int64)"
      ]
     },
     "execution_count": 13,
     "metadata": {},
     "output_type": "execute_result"
    }
   ],
   "source": [
    "X_test = complete_df_test.drop(columns=[\"Id\"])\n",
    "\n",
    "# Make predictions on the test data\n",
    "y_pred_test = model.predict(X_test)\n",
    "\n",
    "y_pred_test"
   ]
  },
  {
   "cell_type": "code",
   "execution_count": 16,
   "id": "6b7034bd-f85a-4046-8e71-ab6eccfed15e",
   "metadata": {
    "pycharm": {
     "name": "#%%\n"
    }
   },
   "outputs": [],
   "source": [
    "# Create csv file with first column being test_files without the .hdf5 extension and second column being the predictions\n",
    "submission = pd.DataFrame({'Id': test_files, 'target': y_pred_test})\n",
    "submission['Id'] = submission['Id'].str[:-5]\n",
    "submission.to_csv('submission.csv', columns=[\"Id\", \"target\"], index=False)"
   ]
  },
  {
   "cell_type": "code",
   "execution_count": 15,
   "id": "971e673e-0718-4144-9a14-f399a6d9c4a8",
   "metadata": {
    "pycharm": {
     "name": "#%%\n"
    }
   },
   "outputs": [
    {
     "data": {
      "text/plain": [
       " 1    5847\n",
       " 0    2040\n",
       "-1      88\n",
       "Name: target, dtype: int64"
      ]
     },
     "execution_count": 15,
     "metadata": {},
     "output_type": "execute_result"
    }
   ],
   "source": [
    "submission['target'].value_counts()"
   ]
  }
 ],
 "metadata": {
  "kernelspec": {
   "display_name": "Python 3 (ipykernel)",
   "language": "python",
   "name": "python3"
  },
  "language_info": {
   "codemirror_mode": {
    "name": "ipython",
    "version": 3
   },
   "file_extension": ".py",
   "mimetype": "text/x-python",
   "name": "python",
   "nbconvert_exporter": "python",
   "pygments_lexer": "ipython3",
   "version": "3.7.9"
  }
 },
 "nbformat": 4,
 "nbformat_minor": 5
}