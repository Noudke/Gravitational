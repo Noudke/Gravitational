{
 "cells": [
  {
   "cell_type": "code",
   "execution_count": 1,
   "outputs": [
    {
     "name": "stdout",
     "output_type": "stream",
     "text": [
      "['001121a05.hdf5', '004f23b2d.hdf5', '00a6db666.hdf5', '00f36a6ac.hdf5', '010a387db.hdf5', '0197bacf8.hdf5', '01b8b67f3.hdf5', '01bcf6533.hdf5', '01dba9731.hdf5', '021248995.hdf5', '02887d232.hdf5', '029ed046c.hdf5', '02c478b09.hdf5', '02c8f43f3.hdf5', '03189bb3d.hdf5', '0367dc82c.hdf5', '04673609a.hdf5', '047e6e2a3.hdf5', '0517ef7fe.hdf5', '05c0675fe.hdf5', '05cdc0769.hdf5', '05f0aef12.hdf5', '067b3fb4b.hdf5', '06e321c6e.hdf5', '07b326ea1.hdf5', '08a060dad.hdf5', '08c444d66.hdf5', '09134f1c2.hdf5', '0920a4276.hdf5', '09531cde3.hdf5', '097370861.hdf5', '09e55aeba.hdf5', '09ecddbba.hdf5', '0ba188c57.hdf5', '0bc8216f2.hdf5', '0c102ab5a.hdf5', '0c30b3fef.hdf5', '0c55d030c.hdf5', '0d0ad0b19.hdf5', '0dc4c8ed0.hdf5', '0e39a18bf.hdf5', '0e60d4893.hdf5', '0e66d0460.hdf5', '0eb30f7c4.hdf5', '0ebe28dd5.hdf5', '0ee090299.hdf5', '0f53d8b96.hdf5', '10dfa2ed6.hdf5', '10eaa1cb2.hdf5', '113ef0cbc.hdf5', '1185806d8.hdf5', '119610501.hdf5', '123594dc7.hdf5', '1282f6c1f.hdf5', '12f0fd6fd.hdf5', '12f9824fa.hdf5', '13a23148f.hdf5', '13df1746e.hdf5', '147cc5f92.hdf5', '1510f75f9.hdf5', '1523dcd0c.hdf5', '15711ccac.hdf5', '1607fd753.hdf5', '1712c1199.hdf5', '172f7b322.hdf5', '1748ad051.hdf5', '176bbd2f3.hdf5', '177d1a100.hdf5', '1796d0836.hdf5', '185861ab1.hdf5', '1870a98f1.hdf5', '18820ee18.hdf5', '18e3c9a55.hdf5', '19adcfeb2.hdf5', '1a25b5854.hdf5', '1afaf159d.hdf5', '1b6398c69.hdf5', '1b9093ebf.hdf5', '1b9900804.hdf5', '1bae97647.hdf5', '1be8a8204.hdf5', '1c231832f.hdf5', '1c48ee79b.hdf5', '1d6391602.hdf5', '1d7a66a28.hdf5', '1e0dace1a.hdf5', '1e1546ee1.hdf5', '1e7151470.hdf5', '1ee822a1a.hdf5', '1f2d669eb.hdf5', '1f583715c.hdf5', '1f6e14d66.hdf5', '1fb2b6ed9.hdf5', '22aa79cce.hdf5', '22aab5f89.hdf5', '22fecc394.hdf5', '2308c22b0.hdf5', '23cbc772c.hdf5', '23d9ad088.hdf5', '240296c02.hdf5', '24d4318ba.hdf5', '24e6e8e15.hdf5', '251fbe8ef.hdf5', '25473bc70.hdf5', '25af27775.hdf5', '25f844863.hdf5', '263c0f2e9.hdf5', '2672d1f40.hdf5', '2688e48bd.hdf5', '268d09231.hdf5', '26ef54407.hdf5', '27232453b.hdf5', '27762456f.hdf5', '282750892.hdf5', '2854c24d8.hdf5', '287804e8b.hdf5', '29687fae4.hdf5', '2ace8fe15.hdf5', '2b7b6e431.hdf5', '2ba050f5e.hdf5', '2bd2dd727.hdf5', '2bd75102b.hdf5', '2bdb28c78.hdf5', '2c1df1c81.hdf5', '2c5321cc0.hdf5', '2c72fb4ac.hdf5', '2c9403b8e.hdf5', '2d3f151eb.hdf5', '2d89a273e.hdf5', '2dc21b1ee.hdf5', '2e3fa3232.hdf5', '2e542c33a.hdf5', '2e6cbc467.hdf5', '2fc419e4e.hdf5', '306fae0da.hdf5', '30e92e515.hdf5', '317e19923.hdf5', '32179f0ec.hdf5', '323bd9224.hdf5', '333198dd7.hdf5', '3361473ed.hdf5', '33c1d3a53.hdf5', '3417bb420.hdf5', '349d20d4d.hdf5', '34e55c0cc.hdf5', '353500935.hdf5', '355ad9213.hdf5', '356b29584.hdf5', '358782926.hdf5', '35988fca2.hdf5', '361f0aabf.hdf5', '363b97e4c.hdf5', '366ed658d.hdf5', '36acfee58.hdf5', '36b58c6a6.hdf5', '385cb9223.hdf5', '38b48b464.hdf5', '390be90e6.hdf5', '39df37ce4.hdf5', '3a7c4e34b.hdf5', '3a8976f92.hdf5', '3aac33909.hdf5', '3b369542d.hdf5', '3c0375e76.hdf5', '3c0a9189a.hdf5', '3c89d38a7.hdf5', '3cb90297e.hdf5', '3cf68ada2.hdf5', '3e6247cc0.hdf5', '3f7ce17c9.hdf5', '3feb0cf04.hdf5', '406c335da.hdf5', '407a9d0a3.hdf5', '418eb68bc.hdf5', '42498de2c.hdf5', '42761bafa.hdf5', '4457d6c44.hdf5', '451ced0f0.hdf5', '4528f13cc.hdf5', '4548f2771.hdf5', '462fec2d4.hdf5', '473a87d34.hdf5', '48112f9b3.hdf5', '485be3a9b.hdf5', '48aa5b411.hdf5', '48e0a7e76.hdf5', '493e475c7.hdf5', '4ad83b3e8.hdf5', '4ae1b9820.hdf5', '4b38ce792.hdf5', '4b4587083.hdf5', '4b470699d.hdf5', '4c540bb3b.hdf5', '4c7c40afb.hdf5', '4e7400077.hdf5', '4f61f078b.hdf5', '4f6fb7aec.hdf5', '50f09e37e.hdf5', '5239e63bb.hdf5', '531bb4e66.hdf5', '537efb3fd.hdf5', '546066aa9.hdf5', '54e55acf5.hdf5', '54e86cff5.hdf5', '558631319.hdf5', '56be7cf87.hdf5', '5716d1b2a.hdf5', '57967c42e.hdf5', '57ec3bee1.hdf5', '5804982ad.hdf5', '58ab2288e.hdf5', '59b8fcb43.hdf5', '59bab8cce.hdf5', '5a94c1fee.hdf5', '5b9f01d0f.hdf5', '5c8b0fafb.hdf5', '5c973f93b.hdf5', '5e1579a97.hdf5', '5e1a7fdf6.hdf5', '5eb13d27e.hdf5', '5f1a567b1.hdf5', '5fbeeade4.hdf5', '601cf959e.hdf5', '60f278723.hdf5', '6100b0f2c.hdf5', '6112053b2.hdf5', '61669dba8.hdf5', '61d59830f.hdf5', '624188624.hdf5', '62a276084.hdf5', '62b0dd011.hdf5', '63516d7d8.hdf5', '64026c8a5.hdf5', '64866cb88.hdf5', '651ad768f.hdf5', '6554662f3.hdf5', '661a9029c.hdf5', '661b0d704.hdf5', '66ab88c85.hdf5', '66c0f74d0.hdf5', '670ffd824.hdf5', '675201446.hdf5', '67a833214.hdf5', '67afb087d.hdf5', '67b636706.hdf5', '6874bc680.hdf5', '68848db68.hdf5', '68aa2d9fe.hdf5', '69196d998.hdf5', '699e1051d.hdf5', '69fa4d39a.hdf5', '6aa71ee15.hdf5', '6bc766535.hdf5', '6be437d5a.hdf5', '6c4cf4a61.hdf5', '6c88462c0.hdf5', '6cbd3ed51.hdf5', '6cc04126c.hdf5', '6cfe15d1d.hdf5', '6dbd5ed82.hdf5', '6e0db53d2.hdf5', '6e2c1b74f.hdf5', '6e8d6d5af.hdf5', '6f99fc924.hdf5', '6ff04000b.hdf5', '7293225a6.hdf5', '72ecbd37a.hdf5', '740e2d884.hdf5', '745a8ef1c.hdf5', '747eac1c9.hdf5', '74cde7b2c.hdf5', '75817a831.hdf5', '75880c20b.hdf5', '77306e70a.hdf5', '77b9c1867.hdf5', '784203316.hdf5', '789a37ee5.hdf5', '78db1e8dc.hdf5', '79b410e00.hdf5', '7ad0bdbbb.hdf5', '7af268397.hdf5', '7b4612592.hdf5', '7b95b20f9.hdf5', '7bfd3778f.hdf5', '7c15564f0.hdf5', '7c2e38128.hdf5', '7c63d94b0.hdf5', '7d75ea4b9.hdf5', '7e9ac95e8.hdf5', '7e9d59d7c.hdf5', '7eb5e6d9e.hdf5', '7eb5fefb0.hdf5', '7f21a5524.hdf5', '7f36dcfdd.hdf5', '7fb02df1a.hdf5', '8048a1b41.hdf5', '806206030.hdf5', '8066112e9.hdf5', '80933810a.hdf5', '80dd6e242.hdf5', '811ac8995.hdf5', '811f69022.hdf5', '81ce401be.hdf5', '81d69bcf1.hdf5', '82455029d.hdf5', '830aa33d9.hdf5', '8313558e1.hdf5', '83a07a0f4.hdf5', '84787542a.hdf5', '84b1d68a2.hdf5', '84d1bf7ac.hdf5', '8576feb51.hdf5', '8726c2ea3.hdf5', '87c57ef96.hdf5', '87caae05c.hdf5', '8843cba37.hdf5', '88f72f55b.hdf5', '897fc9cec.hdf5', '89ecf1e35.hdf5', '8a12330dd.hdf5', '8a44f1aea.hdf5', '8a5b54ff4.hdf5', '8b05870f3.hdf5', '8bde66206.hdf5', '8c0426b33.hdf5', '8c0b72f6d.hdf5', '8c76cc66b.hdf5', '8c8b35cae.hdf5', '8ccf4303c.hdf5', '8d00eb018.hdf5', '8d91e3198.hdf5', '8daa73630.hdf5', '8de80ab57.hdf5', '8e4a149db.hdf5', '8e6d8861c.hdf5', '8e8f659ff.hdf5', '8ec3a2658.hdf5', '8efc6714b.hdf5', '8f4757978.hdf5', '8f7d5e183.hdf5', '8f81a51c5.hdf5', '900b83b9c.hdf5', '902ef7847.hdf5', '9044bf5f9.hdf5', '90a82ee7b.hdf5', '90f77f4e7.hdf5', '9111ecc8f.hdf5', '920622618.hdf5', '92096488b.hdf5', '921fa225b.hdf5', '922f244e8.hdf5', '931ebd322.hdf5', '9334df9a8.hdf5', '9445ca914.hdf5', '9455228c8.hdf5', '946f81b43.hdf5', '957a9554b.hdf5', '95a39955e.hdf5', '95c5ecdea.hdf5', '95e239ace.hdf5', '96b5f60ef.hdf5', '96f3d29da.hdf5', '97d0f8b07.hdf5', '97ee205fa.hdf5', '987debf8d.hdf5', '9897aa1a0.hdf5', '995d3d2e3.hdf5', '999f3dbd9.hdf5', '99c06b292.hdf5', '9a51fc405.hdf5', '9aa168e09.hdf5', '9ac129628.hdf5', '9adc82e0d.hdf5', '9b781d2f8.hdf5', '9cdb287df.hdf5', '9d5c8200b.hdf5', '9e243e42f.hdf5', '9e6943a2c.hdf5', '9e75a534c.hdf5', '9e811dd88.hdf5', '9e8fff090.hdf5', '9e9cad834.hdf5', '9eb0763f5.hdf5', '9f207f412.hdf5', '9f5c7e3e0.hdf5', 'a0bf5dd9b.hdf5', 'a1b5822d1.hdf5', 'a30d2f729.hdf5', 'a417620f1.hdf5', 'a468d58ee.hdf5', 'a4f8d75cd.hdf5', 'a669730ed.hdf5', 'a78846d29.hdf5', 'a78d9061d.hdf5', 'a797ca3fb.hdf5', 'a803ee3ea.hdf5', 'a8806635c.hdf5', 'a8b7d4379.hdf5', 'a915e53f9.hdf5', 'a95bf4a5a.hdf5', 'a9ae6bdc1.hdf5', 'aa0319341.hdf5', 'aa712bb74.hdf5', 'aaef1c8d5.hdf5', 'aaf099144.hdf5', 'aafcdf8cc.hdf5', 'ab0762f7e.hdf5', 'ab2e6aa3e.hdf5', 'ac24860ea.hdf5', 'ac27a93df.hdf5', 'ac38462c8.hdf5', 'acd6f59cb.hdf5', 'acdc07a39.hdf5', 'ade94a70b.hdf5', 'adebec525.hdf5', 'ae3ea66b8.hdf5', 'aea353ef2.hdf5', 'aed5a36c7.hdf5', 'afd1d842d.hdf5', 'b00432eb6.hdf5', 'b04fb007b.hdf5', 'b0e6a0ee7.hdf5', 'b17999ae0.hdf5', 'b1874db88.hdf5', 'b19cc3156.hdf5', 'b200d071e.hdf5', 'b29b86665.hdf5', 'b2de8fa99.hdf5', 'b3aa34dd6.hdf5', 'b3cb4bff1.hdf5', 'b4afdfee3.hdf5', 'b50128af1.hdf5', 'b5af1da4f.hdf5', 'b5fc158fc.hdf5', 'b6c657454.hdf5', 'b6d8f545d.hdf5', 'b72691822.hdf5', 'b7666b451.hdf5', 'b81b2d420.hdf5', 'b832e8026.hdf5', 'b8a6f8533.hdf5', 'b8a9fd77b.hdf5', 'b8e3296d1.hdf5', 'b9d40ffc1.hdf5', 'b9eef44ca.hdf5', 'ba40a5504.hdf5', 'ba8e0d85c.hdf5', 'bb91347e4.hdf5', 'bba906178.hdf5', 'bbe29f938.hdf5', 'bc18ddb0e.hdf5', 'bd5232e36.hdf5', 'bd88a17c8.hdf5', 'bd8ff8fc0.hdf5', 'be17d9b9e.hdf5', 'be2f08e15.hdf5', 'bf3b1baae.hdf5', 'bfa257e53.hdf5', 'bfb9066f8.hdf5', 'c0218fc5a.hdf5', 'c0d6ca20e.hdf5', 'c13427198.hdf5', 'c13d54f54.hdf5', 'c2404665a.hdf5', 'c33be6d2e.hdf5', 'c3c4a8299.hdf5', 'c5866e605.hdf5', 'c5d3bd23e.hdf5', 'c5e6d441b.hdf5', 'c6ac8be96.hdf5', 'c73579fd0.hdf5', 'c7553a480.hdf5', 'c7a4e1258.hdf5', 'c7a720723.hdf5', 'c8703b30f.hdf5', 'c905d3e5a.hdf5', 'c9583769f.hdf5', 'c9d586de3.hdf5', 'ca9f37e76.hdf5', 'cadf61a72.hdf5', 'cb68081ff.hdf5', 'cbf517385.hdf5', 'cbff2fdcd.hdf5', 'cc0dbb498.hdf5', 'cc51ccd26.hdf5', 'cc561e4fc.hdf5', 'ccdd4b41f.hdf5', 'ccddd8fac.hdf5', 'ccf084990.hdf5', 'cdae780ee.hdf5', 'cecf079ed.hdf5', 'd05224641.hdf5', 'd0a50aaa7.hdf5', 'd0e04cb56.hdf5', 'd13361dc7.hdf5', 'd150da72a.hdf5', 'd1c29a2db.hdf5', 'd2e056f41.hdf5', 'd36cd3273.hdf5', 'd3d5e3a3b.hdf5', 'd40a568aa.hdf5', 'd4188d098.hdf5', 'd42930dbe.hdf5', 'd46f1776d.hdf5', 'd4da9c0f4.hdf5', 'd509966eb.hdf5', 'd56d09dd7.hdf5', 'd5ba55910.hdf5', 'd5db4ffe7.hdf5', 'd5e28ff42.hdf5', 'd61dbc5dd.hdf5', 'd637da06b.hdf5', 'd64cfeb51.hdf5', 'd65210c99.hdf5', 'd816526ca.hdf5', 'd85d8b8d1.hdf5', 'd8ba81d34.hdf5', 'd8c7a1fe2.hdf5', 'd900ea204.hdf5', 'd9acc5522.hdf5', 'da00bd839.hdf5', 'da9a0b22f.hdf5', 'dc2bb4444.hdf5', 'dd2ff8966.hdf5', 'dd39c3bf6.hdf5', 'ddfb0ea7e.hdf5', 'de1571922.hdf5', 'de5500913.hdf5', 'de9b07e8c.hdf5', 'decc04720.hdf5', 'def07ad91.hdf5', 'df2b53c1e.hdf5', 'df47fce79.hdf5', 'dfe229aa1.hdf5', 'e05abc26e.hdf5', 'e0be71717.hdf5', 'e0cdcda46.hdf5', 'e2708dc74.hdf5', 'e32cd66a7.hdf5', 'e331c691e.hdf5', 'e33b56aba.hdf5', 'e38adfee0.hdf5', 'e3922fed4.hdf5', 'e397d35ba.hdf5', 'e3c549c93.hdf5', 'e41d12873.hdf5', 'e5f0ec691.hdf5', 'e68dc7828.hdf5', 'e6ac92667.hdf5', 'e6bf339c5.hdf5', 'e6ee7a620.hdf5', 'e6faf5df8.hdf5', 'e706edccc.hdf5', 'e7301434c.hdf5', 'e78013272.hdf5', 'e7c63be42.hdf5', 'e7c7ce8db.hdf5', 'e7f5a0db3.hdf5', 'e84a65983.hdf5', 'e877b6a70.hdf5', 'e91675f49.hdf5', 'e99ca0e32.hdf5', 'e9dc440e5.hdf5', 'ea64758c5.hdf5', 'ec31b4010.hdf5', 'ec4fa9e60.hdf5', 'ecd9c50cd.hdf5', 'ed3fcedbb.hdf5', 'ed81a7719.hdf5', 'eecb263df.hdf5', 'eef3b8970.hdf5', 'ef2e1a898.hdf5', 'f13064569.hdf5', 'f1a8f61a1.hdf5', 'f2963d3c6.hdf5', 'f2a78cf84.hdf5', 'f32b93a8a.hdf5', 'f3a0ba446.hdf5', 'f4770e47b.hdf5', 'f4b6baa3d.hdf5', 'f5bc1d28f.hdf5', 'f5f6f2192.hdf5', 'f6481aa83.hdf5', 'f726476cd.hdf5', 'f773f83db.hdf5', 'f78f28cbe.hdf5', 'f83131c78.hdf5', 'f8792034c.hdf5', 'f8cd7e52f.hdf5', 'f8d52102e.hdf5', 'f96b81dd5.hdf5', 'f9ce02fd5.hdf5', 'fa6d6ab15.hdf5', 'faefe5c95.hdf5', 'fb0131d8c.hdf5', 'fb353f172.hdf5', 'fb6db0d08.hdf5', 'fd853655c.hdf5', 'fe38dbe64.hdf5', 'feafd0d16.hdf5', 'feeca844e.hdf5', 'ff5ad023f.hdf5', 'ffa1d19c7.hdf5']\n"
     ]
    }
   ],
   "source": [
    "import os\n",
    "\n",
    "train_folder = 'D:\\\\Datasets\\\\g2net-detecting-continuous-gravitational-waves (1)\\\\train'\n",
    "test_folder = 'D:\\\\Datasets\\\\g2net-detecting-continuous-gravitational-waves (1)\\\\test'\n",
    "\n",
    "# List of names of all files in the folder\n",
    "train_files = os.listdir(train_folder)\n",
    "print(train_files)\n",
    "test_files = os.listdir(test_folder)"
   ],
   "metadata": {
    "collapsed": false,
    "pycharm": {
     "name": "#%%\n"
    }
   }
  },
  {
   "cell_type": "code",
   "execution_count": 2,
   "outputs": [
    {
     "name": "stdout",
     "output_type": "stream",
     "text": [
      "<HDF5 group \"/001121a05\" (3 members)>\n",
      "----><HDF5 group \"/001121a05/H1\" (2 members)>\n",
      "---------><HDF5 dataset \"SFTs\": shape (360, 4612), type \"<c8\">\n",
      "---------><HDF5 dataset \"timestamps_GPS\": shape (4612,), type \"<i8\">\n",
      "----><HDF5 group \"/001121a05/L1\" (2 members)>\n",
      "---------><HDF5 dataset \"SFTs\": shape (360, 4653), type \"<c8\">\n",
      "---------><HDF5 dataset \"timestamps_GPS\": shape (4653,), type \"<i8\">\n",
      "----><HDF5 dataset \"frequency_Hz\": shape (360,), type \"<f8\">\n"
     ]
    }
   ],
   "source": [
    "import h5py as h5\n",
    "\n",
    "# A representation of what an HDF5 file looks like from the inside.\n",
    "\n",
    "with h5.File(train_folder + '\\\\' + train_files[0], 'r') as f:\n",
    "    for file_key in f.keys():\n",
    "        group = f[file_key]\n",
    "        print(group)\n",
    "        try:\n",
    "            for group_key in group.keys():\n",
    "                group2 = group[group_key]\n",
    "                print(f\"---->{group2}\")\n",
    "                for group_key2 in group2.keys():\n",
    "                    print(f\"--------->{group2[group_key2]}\")\n",
    "        except AttributeError:\n",
    "            pass"
   ],
   "metadata": {
    "collapsed": false,
    "pycharm": {
     "name": "#%%\n"
    }
   }
  },
  {
   "cell_type": "code",
   "execution_count": 12,
   "outputs": [
    {
     "ename": "ValueError",
     "evalue": "Digital filter critical frequencies must be 0 < Wn < 1",
     "output_type": "error",
     "traceback": [
      "\u001B[1;31m---------------------------------------------------------------------------\u001B[0m",
      "\u001B[1;31mValueError\u001B[0m                                Traceback (most recent call last)",
      "\u001B[1;32m~\\AppData\\Local\\Temp\\ipykernel_15596\\1260661618.py\u001B[0m in \u001B[0;36m<module>\u001B[1;34m\u001B[0m\n\u001B[0;32m     32\u001B[0m     \u001B[0mfs\u001B[0m \u001B[1;33m=\u001B[0m \u001B[1;36m1\u001B[0m  \u001B[1;31m# Sampling rate in Hz\u001B[0m\u001B[1;33m\u001B[0m\u001B[1;33m\u001B[0m\u001B[0m\n\u001B[0;32m     33\u001B[0m     \u001B[0morder\u001B[0m \u001B[1;33m=\u001B[0m \u001B[1;36m5\u001B[0m  \u001B[1;31m# Filter order\u001B[0m\u001B[1;33m\u001B[0m\u001B[1;33m\u001B[0m\u001B[0m\n\u001B[1;32m---> 34\u001B[1;33m     \u001B[0mb\u001B[0m\u001B[1;33m,\u001B[0m \u001B[0ma\u001B[0m \u001B[1;33m=\u001B[0m \u001B[0msignal\u001B[0m\u001B[1;33m.\u001B[0m\u001B[0mbutter\u001B[0m\u001B[1;33m(\u001B[0m\u001B[0morder\u001B[0m\u001B[1;33m,\u001B[0m \u001B[0mcutoff_frequency\u001B[0m \u001B[1;33m/\u001B[0m \u001B[1;33m(\u001B[0m\u001B[0mfs\u001B[0m \u001B[1;33m/\u001B[0m \u001B[1;36m2\u001B[0m\u001B[1;33m)\u001B[0m\u001B[1;33m,\u001B[0m \u001B[1;34m'low'\u001B[0m\u001B[1;33m)\u001B[0m\u001B[1;33m\u001B[0m\u001B[1;33m\u001B[0m\u001B[0m\n\u001B[0m\u001B[0;32m     35\u001B[0m \u001B[1;33m\u001B[0m\u001B[0m\n\u001B[0;32m     36\u001B[0m     \u001B[1;31m# Apply low-pass filtering to the data\u001B[0m\u001B[1;33m\u001B[0m\u001B[1;33m\u001B[0m\u001B[1;33m\u001B[0m\u001B[0m\n",
      "\u001B[1;32m~\\DataSpellProjects\\Gravitational\\DS_venv\\lib\\site-packages\\scipy\\signal\\filter_design.py\u001B[0m in \u001B[0;36mbutter\u001B[1;34m(N, Wn, btype, analog, output, fs)\u001B[0m\n\u001B[0;32m   2955\u001B[0m     \"\"\"\n\u001B[0;32m   2956\u001B[0m     return iirfilter(N, Wn, btype=btype, analog=analog,\n\u001B[1;32m-> 2957\u001B[1;33m                      output=output, ftype='butter', fs=fs)\n\u001B[0m\u001B[0;32m   2958\u001B[0m \u001B[1;33m\u001B[0m\u001B[0m\n\u001B[0;32m   2959\u001B[0m \u001B[1;33m\u001B[0m\u001B[0m\n",
      "\u001B[1;32m~\\DataSpellProjects\\Gravitational\\DS_venv\\lib\\site-packages\\scipy\\signal\\filter_design.py\u001B[0m in \u001B[0;36miirfilter\u001B[1;34m(N, Wn, rp, rs, btype, analog, ftype, output, fs)\u001B[0m\n\u001B[0;32m   2422\u001B[0m                 raise ValueError(\"Digital filter critical frequencies \"\n\u001B[0;32m   2423\u001B[0m                                  \"must be 0 < Wn < fs/2 (fs={} -> fs/2={})\".format(fs, fs/2))\n\u001B[1;32m-> 2424\u001B[1;33m             raise ValueError(\"Digital filter critical frequencies \"\n\u001B[0m\u001B[0;32m   2425\u001B[0m                              \"must be 0 < Wn < 1\")\n\u001B[0;32m   2426\u001B[0m         \u001B[0mfs\u001B[0m \u001B[1;33m=\u001B[0m \u001B[1;36m2.0\u001B[0m\u001B[1;33m\u001B[0m\u001B[1;33m\u001B[0m\u001B[0m\n",
      "\u001B[1;31mValueError\u001B[0m: Digital filter critical frequencies must be 0 < Wn < 1"
     ]
    }
   ],
   "source": [
    "from scipy import signal\n",
    "import numpy as np\n",
    "import matplotlib.pyplot as plt\n",
    "from scipy.signal import lfilter\n",
    "\n",
    "\n",
    "# Open the HDF5 file\n",
    "with h5.File(train_folder + '\\\\' + train_files[0], 'r') as f:\n",
    "\n",
    "    H1_group = f['/001121a05/H1']\n",
    "\n",
    "    H1_SFTs = H1_group['SFTs']\n",
    "    H1_SFTs = np.array(H1_SFTs)\n",
    "    H1_SFTs = H1_SFTs.reshape(-1)\n",
    "\n",
    "    H1_timestamps_GPS = H1_group['timestamps_GPS']\n",
    "\n",
    "    # Extract the SFTs and timestamps data from the HDF5 file (as shown above)\n",
    "\n",
    "    # Define the window size and overlap\n",
    "    window_size = 128\n",
    "    overlap = window_size // 2\n",
    "\n",
    "    # Calculate the window function\n",
    "    window = signal.windows.hann(window_size)\n",
    "\n",
    "    # Apply the window function to the data\n",
    "    windowed_data = H1_SFTs[:window_size] * window\n",
    "\n",
    "    # Define the low-pass filter coefficients\n",
    "    cutoff_frequency = 0.45  # Cutoff frequency in Hz\n",
    "    fs = 1  # Sampling rate in Hz\n",
    "    order = 5  # Filter order\n",
    "    b, a = signal.butter(order, cutoff_frequency / (fs / 2), 'low')\n",
    "\n",
    "    # Apply low-pass filtering to the data\n",
    "    filtered_data = signal.lfilter(b, a, windowed_data)\n",
    "\n",
    "    f, t, Sxx = signal.spectrogram(H1_SFTs, fs=1, window='hann', nperseg=window_size, noverlap=overlap)\n",
    "\n",
    "    # Reshape the spectrogram data to match the dimensions of t and f\n",
    "    Sxx = Sxx.reshape(t.shape[0], f.shape[0])\n",
    "    Sxx = Sxx.transpose()\n",
    "\n",
    "    # Plot the spectrogram\n",
    "    plt.pcolormesh(t, f, np.log10(Sxx))\n",
    "    plt.ylabel('Frequency [Hz]')\n",
    "    plt.xlabel('Time [sec]')\n",
    "    plt.show()\n"
   ],
   "metadata": {
    "collapsed": false,
    "pycharm": {
     "name": "#%%\n"
    }
   }
  }
 ],
 "metadata": {
  "kernelspec": {
   "display_name": "Python 3",
   "language": "python",
   "name": "python3"
  },
  "language_info": {
   "codemirror_mode": {
    "name": "ipython",
    "version": 2
   },
   "file_extension": ".py",
   "mimetype": "text/x-python",
   "name": "python",
   "nbconvert_exporter": "python",
   "pygments_lexer": "ipython2",
   "version": "2.7.6"
  }
 },
 "nbformat": 4,
 "nbformat_minor": 0
}